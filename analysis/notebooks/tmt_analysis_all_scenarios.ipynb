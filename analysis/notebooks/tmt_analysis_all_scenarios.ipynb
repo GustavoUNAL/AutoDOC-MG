{
  "cells": [
    {
      "cell_type": "markdown",
      "metadata": {},
      "source": [
        "# TMT (Total Miscoordination Time) Analysis for All Scenarios\n",
        "\n",
        "This notebook provides a comprehensive analysis of relay coordination data and calculates TMT by operational scenario. Designed for international research collaboration and easy sharing.\n"
      ]
    },
    {
      "cell_type": "code",
      "execution_count": 20,
      "metadata": {},
      "outputs": [
        {
          "name": "stdout",
          "output_type": "stream",
          "text": [
            "============================================================\n",
            "PROJECT CONFIGURATION: AutoDOC-MG\n",
            "============================================================\n",
            "📁 Project root: /Users/gustavo/Documents/Projects/TESIS_UNAL/AutoDOC-MG\n",
            "📊 Data file: /Users/gustavo/Documents/Projects/TESIS_UNAL/AutoDOC-MG/data/raw/automation_results.json\n",
            "📈 Output directory: /Users/gustavo/Documents/Projects/TESIS_UNAL/AutoDOC-MG/results/plots/tmt_analysis\n",
            "📋 Tables directory: /Users/gustavo/Documents/Projects/TESIS_UNAL/AutoDOC-MG/results/tables\n",
            "✅ File exists: True\n",
            "⏱️  CTI configured: 0.2 seconds\n",
            "🎯 Coordination threshold: 80.0%\n",
            "⚠️  Critical TMT threshold: -20.0\n",
            "============================================================\n",
            "\n",
            "🌍 PORTABLE PATHS FOR INTERNATIONAL SHARING:\n",
            "============================================================\n",
            "📁 Project Structure (relative paths):\n",
            "   • data_dir: data/\n",
            "   • raw_data_dir: data/raw/\n",
            "   • processed_data_dir: data/processed/\n",
            "   • results_dir: results/\n",
            "   • plots_dir: results/plots/tmt_analysis/\n",
            "   • tables_dir: results/tables/\n",
            "\n",
            "📊 Required Files:\n",
            "   • input_data: data/raw/automation_results.json\n",
            "\n",
            "📈 Output Files (with timestamps):\n",
            "   • csv_results: results/tables/tmt_analysis_results_[timestamp].csv\n",
            "   • metrics_json: results/tables/metrics_summary_[timestamp].json\n",
            "   • report_txt: results/analysis_report_[timestamp].txt\n",
            "   • plots_html: results/plots/tmt_analysis/[plot_name]_[timestamp].html\n",
            "   • plots_png: results/plots/tmt_analysis/[plot_name]_[timestamp].png\n",
            "\n",
            "✅ This notebook is ready for international collaboration!\n",
            "============================================================\n"
          ]
        }
      ],
      "source": [
        "# %% Import Libraries\n",
        "import json\n",
        "import os\n",
        "import copy\n",
        "import plotly.express as px\n",
        "import plotly.graph_objects as go\n",
        "import plotly.io as pio\n",
        "from plotly.subplots import make_subplots\n",
        "import pandas as pd\n",
        "import numpy as np\n",
        "import re\n",
        "from pathlib import Path\n",
        "from collections import defaultdict\n",
        "import traceback\n",
        "from scipy import stats\n",
        "from datetime import datetime\n",
        "import warnings\n",
        "warnings.filterwarnings('ignore')\n",
        "\n",
        "# %% Configuration\n",
        "# Set default Plotly template\n",
        "pio.templates.default = \"plotly_white\"\n",
        "\n",
        "# --- Portable Configuration for International Researchers ---\n",
        "class ProjectConfig:\n",
        "    \"\"\"Portable configuration for easy sharing and collaboration with international researchers\"\"\"\n",
        "    \n",
        "    def __init__(self, project_name=\"RelayCoordination\", data_file_name=\"automation_results.json\"):\n",
        "        # Auto-detect project structure - works on any system\n",
        "        current_dir = Path.cwd()\n",
        "        if current_dir.name == \"notebooks\":\n",
        "            self.PROJECT_ROOT = current_dir.parent\n",
        "        elif current_dir.name == \"analysis\":\n",
        "            self.PROJECT_ROOT = current_dir.parent\n",
        "        else:\n",
        "            self.PROJECT_ROOT = current_dir\n",
        "        \n",
        "        # Ensure we're pointing to the correct project root\n",
        "        # Look for the data directory to confirm we're in the right place\n",
        "        if not (self.PROJECT_ROOT / \"data\" / \"raw\").exists():\n",
        "            # If we're in analysis/notebooks, go up two levels\n",
        "            if current_dir.name == \"notebooks\" and current_dir.parent.name == \"analysis\":\n",
        "                self.PROJECT_ROOT = current_dir.parent.parent\n",
        "            # If we're in analysis, go up one level\n",
        "            elif current_dir.name == \"analysis\":\n",
        "                self.PROJECT_ROOT = current_dir.parent\n",
        "        \n",
        "        # Directory configuration - PORTABLE AND REPLICABLE\n",
        "        self.DATA_DIR = self.PROJECT_ROOT / \"data\"\n",
        "        self.RAW_DATA_DIR = self.DATA_DIR / \"raw\"\n",
        "        self.PROCESSED_DATA_DIR = self.DATA_DIR / \"processed\"\n",
        "        self.RESULTS_DIR = self.PROJECT_ROOT / \"results\"\n",
        "        \n",
        "        # Input and output files - WITH TIMESTAMP TO AVOID OVERWRITING\n",
        "        self.INPUT_FILE = self.RAW_DATA_DIR / data_file_name\n",
        "        self.OUTPUT_DIR = self.RESULTS_DIR / \"plots\" / \"tmt_analysis\"\n",
        "        self.TABLES_DIR = self.RESULTS_DIR / \"tables\"\n",
        "        \n",
        "        # Create necessary directories\n",
        "        self.OUTPUT_DIR.mkdir(parents=True, exist_ok=True)\n",
        "        self.TABLES_DIR.mkdir(parents=True, exist_ok=True)\n",
        "        \n",
        "        # Analysis configuration - ADJUSTABLE BY RESEARCHER\n",
        "        self.CTI = 0.2  # Typical coordination time interval (seconds)\n",
        "        self.MIN_COORDINATION_THRESHOLD = 80.0  # Minimum acceptable coordination threshold (%)\n",
        "        self.CRITICAL_TMT_THRESHOLD = -20.0  # Critical TMT threshold\n",
        "        \n",
        "        # Graphics configuration - OPTIMIZED FOR PUBLICATIONS\n",
        "        self.FIG_WIDTH = 1200\n",
        "        self.FIG_HEIGHT = 600\n",
        "        self.TITLE_FONT_SIZE = 20\n",
        "        self.AXIS_LABEL_FONT_SIZE = 16\n",
        "        self.TICK_FONT_SIZE = 12\n",
        "        self.LEGEND_TITLE_FONT_SIZE = 14\n",
        "        self.LEGEND_FONT_SIZE = 12\n",
        "        self.TEXT_ON_BAR_FONT_SIZE = 10\n",
        "        self.PLOT_TEMPLATE = \"plotly_white\"\n",
        "        \n",
        "        # Colors for graphics - PROFESSIONAL AND CONSISTENT\n",
        "        self.COLORS = {\n",
        "            'coordinated': '#2E8B57',      # Sea green\n",
        "            'uncoordinated': '#DC143C',    # Crimson\n",
        "            'critical': '#FF4500',         # Orange red\n",
        "            'warning': '#FFD700',          # Gold\n",
        "            'good': '#32CD32',             # Lime green\n",
        "            'primary': '#4169E1',          # Royal blue\n",
        "            'secondary': '#9370DB'         # Medium purple\n",
        "        }\n",
        "        \n",
        "        # Only the most important visualizations\n",
        "        self.ESSENTIAL_VISUALIZATIONS = [\n",
        "            'coordination_quality',\n",
        "            'tmt_severity', \n",
        "            'metrics_dashboard'\n",
        "        ]\n",
        "    \n",
        "    def print_config(self):\n",
        "        \"\"\"Print current project configuration\"\"\"\n",
        "        print(\"=\"*60)\n",
        "        print(f\"PROJECT CONFIGURATION: {self.PROJECT_ROOT.name}\")\n",
        "        print(\"=\"*60)\n",
        "        print(f\"📁 Project root: {self.PROJECT_ROOT}\")\n",
        "        print(f\"📊 Data file: {self.INPUT_FILE}\")\n",
        "        print(f\"📈 Output directory: {self.OUTPUT_DIR}\")\n",
        "        print(f\"📋 Tables directory: {self.TABLES_DIR}\")\n",
        "        print(f\"✅ File exists: {self.INPUT_FILE.exists()}\")\n",
        "        print(f\"⏱️  CTI configured: {self.CTI} seconds\")\n",
        "        print(f\"🎯 Coordination threshold: {self.MIN_COORDINATION_THRESHOLD}%\")\n",
        "        print(f\"⚠️  Critical TMT threshold: {self.CRITICAL_TMT_THRESHOLD}\")\n",
        "        print(\"=\"*60)\n",
        "    \n",
        "    def get_relative_paths(self):\n",
        "        \"\"\"Get relative paths for easy sharing\"\"\"\n",
        "        return {\n",
        "            'data_file': str(self.INPUT_FILE.relative_to(self.PROJECT_ROOT)),\n",
        "            'output_dir': str(self.OUTPUT_DIR.relative_to(self.PROJECT_ROOT)),\n",
        "            'tables_dir': str(self.TABLES_DIR.relative_to(self.PROJECT_ROOT))\n",
        "        }\n",
        "\n",
        "# Initialize configuration\n",
        "config = ProjectConfig()\n",
        "config.print_config()\n",
        "\n",
        "# Show portable paths for easy sharing\n",
        "print(\"\\n🌍 PORTABLE PATHS FOR INTERNATIONAL SHARING:\")\n",
        "print(\"=\"*60)\n",
        "portable_paths = config.get_relative_paths()\n",
        "print(\"📁 Project Structure (relative paths):\")\n",
        "print(\"   • data_dir: data/\")\n",
        "print(\"   • raw_data_dir: data/raw/\")\n",
        "print(\"   • processed_data_dir: data/processed/\")\n",
        "print(\"   • results_dir: results/\")\n",
        "print(\"   • plots_dir: results/plots/tmt_analysis/\")\n",
        "print(\"   • tables_dir: results/tables/\")\n",
        "\n",
        "print(\"\\n📊 Required Files:\")\n",
        "print(f\"   • input_data: {portable_paths['data_file']}\")\n",
        "\n",
        "print(\"\\n📈 Output Files (with timestamps):\")\n",
        "print(\"   • csv_results: results/tables/tmt_analysis_results_[timestamp].csv\")\n",
        "print(\"   • metrics_json: results/tables/metrics_summary_[timestamp].json\")\n",
        "print(\"   • report_txt: results/analysis_report_[timestamp].txt\")\n",
        "print(\"   • plots_html: results/plots/tmt_analysis/[plot_name]_[timestamp].html\")\n",
        "print(\"   • plots_png: results/plots/tmt_analysis/[plot_name]_[timestamp].png\")\n",
        "\n",
        "print(\"\\n✅ This notebook is ready for international collaboration!\")\n",
        "print(\"=\"*60)\n"
      ]
    },
    {
      "cell_type": "code",
      "execution_count": 21,
      "metadata": {},
      "outputs": [
        {
          "name": "stdout",
          "output_type": "stream",
          "text": [
            "Configuración de gráficos cargada.\n"
          ]
        }
      ],
      "source": [
        "# %% Constantes de Estilo para Gráficos\n",
        "FIG_WIDTH = 1200      # Ancho de la figura en píxeles\n",
        "FIG_HEIGHT = 600      # Alto de la figura en píxeles\n",
        "TITLE_FONT_SIZE = 20\n",
        "AXIS_LABEL_FONT_SIZE = 16\n",
        "TICK_FONT_SIZE = 12\n",
        "LEGEND_TITLE_FONT_SIZE = 14\n",
        "LEGEND_FONT_SIZE = 12\n",
        "TEXT_ON_BAR_FONT_SIZE = 10\n",
        "PLOT_TEMPLATE = \"plotly_white\"\n",
        "\n",
        "print(\"Configuración de gráficos cargada.\")\n"
      ]
    },
    {
      "cell_type": "code",
      "execution_count": 22,
      "metadata": {},
      "outputs": [
        {
          "name": "stdout",
          "output_type": "stream",
          "text": [
            "✅ Funciones auxiliares avanzadas definidas.\n"
          ]
        }
      ],
      "source": [
        "# %% Advanced Helper Functions\n",
        "def extract_scenario_number(scenario_name):\n",
        "    \"\"\"\n",
        "    Extract the first number found in the scenario name.\n",
        "    If no number is found, returns a very large value to sort it at the end.\n",
        "    \"\"\"\n",
        "    if not isinstance(scenario_name, str):\n",
        "        return float('inf')\n",
        "    match = re.search(r'\\d+', scenario_name)\n",
        "    if match:\n",
        "        return int(match.group(0))\n",
        "    else:\n",
        "        print(f\"Warning: No number found in scenario name '{scenario_name}'. Will be sorted at the end.\")\n",
        "        return float('inf')\n",
        "\n",
        "def validate_file_path(file_path):\n",
        "    \"\"\"\n",
        "    Validate that the file exists and is accessible.\n",
        "    \"\"\"\n",
        "    if not file_path.exists():\n",
        "        raise FileNotFoundError(f\"File not found at path: {file_path}\")\n",
        "    \n",
        "    if not file_path.is_file():\n",
        "        raise ValueError(f\"Path does not point to a file: {file_path}\")\n",
        "    \n",
        "    return True\n",
        "\n",
        "def load_relay_data(file_path):\n",
        "    \"\"\"\n",
        "    Load and validate relay data from JSON file.\n",
        "    \"\"\"\n",
        "    validate_file_path(file_path)\n",
        "    \n",
        "    print(f\"📊 Loading data from: {file_path}\")\n",
        "    \n",
        "    try:\n",
        "        with open(file_path, 'r', encoding='utf-8') as f:\n",
        "            relay_pairs_data = json.load(f)\n",
        "    except json.JSONDecodeError as e:\n",
        "        raise json.JSONDecodeError(f\"Error decoding JSON: {e}\")\n",
        "    \n",
        "    if not isinstance(relay_pairs_data, list):\n",
        "        raise TypeError(f\"Error: File {file_path} does not contain a main JSON list.\")\n",
        "    \n",
        "    print(f\"✅ Data loaded successfully. Total entries: {len(relay_pairs_data):,}\")\n",
        "    return relay_pairs_data\n",
        "\n",
        "def create_portable_paths(config):\n",
        "    \"\"\"\n",
        "    Create portable paths that work on any system for easy sharing.\n",
        "    \"\"\"\n",
        "    return {\n",
        "        'project_structure': {\n",
        "            'data_dir': 'data/',\n",
        "            'raw_data_dir': 'data/raw/',\n",
        "            'processed_data_dir': 'data/processed/',\n",
        "            'results_dir': 'results/',\n",
        "            'plots_dir': 'results/plots/tmt_analysis/',\n",
        "            'tables_dir': 'results/tables/'\n",
        "        },\n",
        "        'required_files': {\n",
        "            'input_data': 'data/raw/automation_results.json'\n",
        "        },\n",
        "        'output_files': {\n",
        "            'csv_results': 'results/tables/tmt_analysis_results_[timestamp].csv',\n",
        "            'metrics_json': 'results/tables/metrics_summary_[timestamp].json',\n",
        "            'report_txt': 'results/analysis_report_[timestamp].txt',\n",
        "            'plots_html': 'results/plots/tmt_analysis/[plot_name]_[timestamp].html',\n",
        "            'plots_png': 'results/plots/tmt_analysis/[plot_name]_[timestamp].png'\n",
        "        }\n",
        "    }\n",
        "\n",
        "def calculate_advanced_metrics(df):\n",
        "    \"\"\"\n",
        "    Calculate advanced metrics for coordination analysis.\n",
        "    \"\"\"\n",
        "    metrics = {}\n",
        "    \n",
        "    # Basic metrics\n",
        "    metrics['total_scenarios'] = len(df)\n",
        "    metrics['total_pairs'] = df['Total Pares Válidos'].sum()\n",
        "    metrics['coordinated_pairs'] = df['Pares Coordinados'].sum()\n",
        "    metrics['uncoordinated_pairs'] = df['Pares Descoordinados'].sum()\n",
        "    metrics['total_tmt'] = df['TMT'].sum()\n",
        "    metrics['avg_coordination'] = df['Porcentaje Coordinación'].mean()\n",
        "    \n",
        "    # Statistical metrics\n",
        "    metrics['coordination_std'] = df['Porcentaje Coordinación'].std()\n",
        "    metrics['tmt_std'] = df['TMT'].std()\n",
        "    metrics['coordination_median'] = df['Porcentaje Coordinación'].median()\n",
        "    metrics['tmt_median'] = df['TMT'].median()\n",
        "    \n",
        "    # Quality metrics\n",
        "    good_scenarios = df[df['Porcentaje Coordinación'] >= config.MIN_COORDINATION_THRESHOLD]\n",
        "    metrics['good_scenarios_count'] = len(good_scenarios)\n",
        "    metrics['good_scenarios_percentage'] = (len(good_scenarios) / len(df)) * 100\n",
        "    \n",
        "    critical_scenarios = df[df['TMT'] <= config.CRITICAL_TMT_THRESHOLD]\n",
        "    metrics['critical_scenarios_count'] = len(critical_scenarios)\n",
        "    metrics['critical_scenarios_percentage'] = (len(critical_scenarios) / len(df)) * 100\n",
        "    \n",
        "    # Distribution metrics\n",
        "    metrics['coordination_range'] = df['Porcentaje Coordinación'].max() - df['Porcentaje Coordinación'].min()\n",
        "    metrics['tmt_range'] = df['TMT'].max() - df['TMT'].min()\n",
        "    \n",
        "    return metrics\n",
        "\n",
        "def generate_quality_assessment(metrics):\n",
        "    \"\"\"\n",
        "    Generate a quality assessment based on calculated metrics.\n",
        "    \"\"\"\n",
        "    assessment = {\n",
        "        'overall_quality': 'CRITICAL',\n",
        "        'coordination_status': 'INSUFFICIENT',\n",
        "        'tmt_status': 'CRITICAL',\n",
        "        'recommendations': []\n",
        "    }\n",
        "    \n",
        "    # Coordination evaluation\n",
        "    if metrics['avg_coordination'] >= 90:\n",
        "        assessment['coordination_status'] = 'EXCELLENT'\n",
        "    elif metrics['avg_coordination'] >= 80:\n",
        "        assessment['coordination_status'] = 'GOOD'\n",
        "    elif metrics['avg_coordination'] >= 60:\n",
        "        assessment['coordination_status'] = 'REGULAR'\n",
        "    else:\n",
        "        assessment['coordination_status'] = 'INSUFFICIENT'\n",
        "    \n",
        "    # TMT evaluation\n",
        "    if metrics['total_tmt'] >= -100:\n",
        "        assessment['tmt_status'] = 'GOOD'\n",
        "    elif metrics['total_tmt'] >= -500:\n",
        "        assessment['tmt_status'] = 'REGULAR'\n",
        "    else:\n",
        "        assessment['tmt_status'] = 'CRITICAL'\n",
        "    \n",
        "    # Overall evaluation\n",
        "    if assessment['coordination_status'] in ['EXCELLENT', 'GOOD'] and assessment['tmt_status'] in ['GOOD', 'REGULAR']:\n",
        "        assessment['overall_quality'] = 'GOOD'\n",
        "    elif assessment['coordination_status'] in ['REGULAR'] or assessment['tmt_status'] in ['REGULAR']:\n",
        "        assessment['overall_quality'] = 'REGULAR'\n",
        "    else:\n",
        "        assessment['overall_quality'] = 'CRITICAL'\n",
        "    \n",
        "    # Generate recommendations\n",
        "    if metrics['avg_coordination'] < 80:\n",
        "        assessment['recommendations'].append(\"🔴 CRITICAL: Very low average coordination. Review relay configurations.\")\n",
        "    \n",
        "    if metrics['total_tmt'] < -500:\n",
        "        assessment['recommendations'].append(\"🔴 CRITICAL: Very negative total TMT. Multiple severe miscoordinations.\")\n",
        "    \n",
        "    if metrics['good_scenarios_percentage'] < 20:\n",
        "        assessment['recommendations'].append(\"🟡 WARNING: Few scenarios with acceptable coordination.\")\n",
        "    \n",
        "    if metrics['critical_scenarios_count'] > metrics['total_scenarios'] * 0.3:\n",
        "        assessment['recommendations'].append(\"🟡 WARNING: More than 30% of scenarios have critical TMT.\")\n",
        "    \n",
        "    return assessment\n",
        "\n",
        "def print_detailed_analysis(metrics, assessment):\n",
        "    \"\"\"\n",
        "    Imprime un análisis detallado y profesional de los resultados.\n",
        "    \"\"\"\n",
        "    print(\"\\n\" + \"=\"*80)\n",
        "    print(\"📊 ANÁLISIS DETALLADO DE COORDINACIÓN DE RELÉS\")\n",
        "    print(\"=\"*80)\n",
        "    \n",
        "    print(f\"\\n📈 MÉTRICAS GENERALES:\")\n",
        "    print(f\"   • Total de escenarios analizados: {metrics['total_scenarios']}\")\n",
        "    print(f\"   • Total de pares de relés: {metrics['total_pairs']:,}\")\n",
        "    print(f\"   • Pares coordinados: {metrics['coordinated_pairs']:,} ({metrics['avg_coordination']:.2f}%)\")\n",
        "    print(f\"   • Pares descoordinados: {metrics['uncoordinated_pairs']:,}\")\n",
        "    print(f\"   • TMT total acumulado: {metrics['total_tmt']:.4f} segundos\")\n",
        "    \n",
        "    print(f\"\\n📊 ESTADÍSTICAS DESCRIPTIVAS:\")\n",
        "    print(f\"   • Coordinación promedio: {metrics['avg_coordination']:.2f}% ± {metrics['coordination_std']:.2f}%\")\n",
        "    print(f\"   • Coordinación mediana: {metrics['coordination_median']:.2f}%\")\n",
        "    print(f\"   • Rango de coordinación: {metrics['coordination_range']:.2f}%\")\n",
        "    print(f\"   • TMT promedio: {metrics['tmt_median']:.4f} segundos\")\n",
        "    \n",
        "    print(f\"\\n🎯 EVALUACIÓN DE CALIDAD:\")\n",
        "    print(f\"   • Escenarios con coordinación ≥80%: {metrics['good_scenarios_count']} ({metrics['good_scenarios_percentage']:.1f}%)\")\n",
        "    print(f\"   • Escenarios con TMT crítico: {metrics['critical_scenarios_count']} ({metrics['critical_scenarios_percentage']:.1f}%)\")\n",
        "    \n",
        "    print(f\"\\n🏆 CALIFICACIÓN GENERAL: {assessment['overall_quality']}\")\n",
        "    print(f\"   • Estado de coordinación: {assessment['coordination_status']}\")\n",
        "    print(f\"   • Estado de TMT: {assessment['tmt_status']}\")\n",
        "    \n",
        "    if assessment['recommendations']:\n",
        "        print(f\"\\n💡 RECOMENDACIONES:\")\n",
        "        for i, rec in enumerate(assessment['recommendations'], 1):\n",
        "            print(f\"   {i}. {rec}\")\n",
        "    \n",
        "    print(\"=\"*80)\n",
        "\n",
        "print(\"✅ Funciones auxiliares avanzadas definidas.\")\n"
      ]
    },
    {
      "cell_type": "code",
      "execution_count": 23,
      "metadata": {},
      "outputs": [
        {
          "name": "stdout",
          "output_type": "stream",
          "text": [
            "✅ Función de análisis mejorada definida.\n"
          ]
        }
      ],
      "source": [
        "# %% Función Principal de Análisis Mejorada\n",
        "def analyze_all_scenarios():\n",
        "    \"\"\"\n",
        "    Carga datos de pares de relés, calcula TMT y coordinación por escenario,\n",
        "    genera análisis estadístico avanzado y métricas de calidad.\n",
        "    \"\"\"\n",
        "    try:\n",
        "        # 1. Cargar el archivo JSON\n",
        "        relay_pairs_data = load_relay_data(config.INPUT_FILE)\n",
        "\n",
        "        # Diccionarios para almacenar datos por escenario\n",
        "        scenario_results = defaultdict(lambda: {\n",
        "            'tmt': 0.0,\n",
        "            'coordinated': 0,\n",
        "            'uncoordinated': 0,\n",
        "            'total_valid': 0,\n",
        "            'time_differences': [],  # Para análisis estadístico\n",
        "            'miscoordination_times': []  # Para análisis de descoordinación\n",
        "        })\n",
        "\n",
        "        # 2. Procesar cada par y agrupar por escenario\n",
        "        print(\"🔄 Calculando TMT y coordinación por escenario...\")\n",
        "        total_pairs_read = 0\n",
        "        skipped_pairs_count = 0\n",
        "\n",
        "        for pair_entry in relay_pairs_data:\n",
        "            total_pairs_read += 1\n",
        "            \n",
        "            # Validar estructura de entrada\n",
        "            if not isinstance(pair_entry, dict):\n",
        "                print(f\"⚠️  Warning: Entrada omitida no es un diccionario: {pair_entry}\")\n",
        "                skipped_pairs_count += 1\n",
        "                continue\n",
        "\n",
        "            scenario_id = pair_entry.get(\"scenario_id\")\n",
        "            if not scenario_id:\n",
        "                print(f\"⚠️  Warning: Entrada omitida por falta de 'scenario_id': {pair_entry.get('pair_id', 'ID desconocido')}\")\n",
        "                skipped_pairs_count += 1\n",
        "                continue\n",
        "\n",
        "            main_relay_info = pair_entry.get('main_relay')\n",
        "            backup_relay_info = pair_entry.get('backup_relay')\n",
        "\n",
        "            if not isinstance(main_relay_info, dict) or not isinstance(backup_relay_info, dict):\n",
        "                print(f\"⚠️  Warning: Datos de relé inválidos para par en escenario '{scenario_id}'. Par ID: {pair_entry.get('pair_id', 'ID desconocido')}\")\n",
        "                skipped_pairs_count += 1\n",
        "                continue\n",
        "\n",
        "            main_time = main_relay_info.get('Time_out')\n",
        "            backup_time = backup_relay_info.get('Time_out')\n",
        "\n",
        "            if not isinstance(main_time, (int, float)) or not isinstance(backup_time, (int, float)):\n",
        "                print(f\"⚠️  Warning: Tiempos inválidos ('{main_time}', '{backup_time}') para par en escenario '{scenario_id}'. Par ID: {pair_entry.get('pair_id', 'ID desconocido')}\")\n",
        "                skipped_pairs_count += 1\n",
        "                continue\n",
        "\n",
        "            if main_time < 0 or backup_time < 0:\n",
        "                print(f\"⚠️  Warning: Tiempos negativos ('{main_time}', '{backup_time}') en par '{pair_entry.get('pair_id', 'ID desconocido')}' (Esc: '{scenario_id}'). Omitiendo par.\")\n",
        "                skipped_pairs_count += 1\n",
        "                continue\n",
        "\n",
        "            # Calcular TMT y coordinación\n",
        "            delta_t = backup_time - main_time - config.CTI\n",
        "            mt = (delta_t - abs(delta_t)) / 2  # Penalización solo si delta_t < 0\n",
        "\n",
        "            # Almacenar datos para análisis estadístico\n",
        "            scenario_results[scenario_id]['time_differences'].append(delta_t)\n",
        "            if delta_t < 0:\n",
        "                scenario_results[scenario_id]['miscoordination_times'].append(abs(delta_t))\n",
        "\n",
        "            scenario_results[scenario_id]['tmt'] += mt\n",
        "            scenario_results[scenario_id]['total_valid'] += 1\n",
        "\n",
        "            if delta_t >= 0:\n",
        "                scenario_results[scenario_id]['coordinated'] += 1\n",
        "            else:\n",
        "                scenario_results[scenario_id]['uncoordinated'] += 1\n",
        "\n",
        "        if not scenario_results:\n",
        "            print(\"\\n❌ Error CRÍTICO: No se encontraron datos de escenarios válidos para procesar.\")\n",
        "            return None, None, None\n",
        "\n",
        "        # 3. Preparar datos para graficar y analizar\n",
        "        print(\"📊 Preparando datos para visualización y análisis estadístico...\")\n",
        "        data_for_analysis = []\n",
        "        \n",
        "        for scenario, data in scenario_results.items():\n",
        "            total_valid_pairs = data['total_valid']\n",
        "            percentage_coordination = (data['coordinated'] / total_valid_pairs * 100) if total_valid_pairs > 0 else 0\n",
        "            \n",
        "            # Calcular métricas adicionales por escenario\n",
        "            avg_time_diff = np.mean(data['time_differences']) if data['time_differences'] else 0\n",
        "            std_time_diff = np.std(data['time_differences']) if data['time_differences'] else 0\n",
        "            max_miscoordination = max(data['miscoordination_times']) if data['miscoordination_times'] else 0\n",
        "            avg_miscoordination = np.mean(data['miscoordination_times']) if data['miscoordination_times'] else 0\n",
        "            \n",
        "            # Clasificar calidad del escenario\n",
        "            if percentage_coordination >= config.MIN_COORDINATION_THRESHOLD:\n",
        "                quality = 'GOOD'\n",
        "            elif percentage_coordination >= 60:\n",
        "                quality = 'REGULAR'\n",
        "            else:\n",
        "                quality = 'CRITICAL'\n",
        "\n",
        "            data_for_analysis.append({\n",
        "                'Escenario': scenario,\n",
        "                'TMT': data['tmt'],\n",
        "                'Pares Coordinados': data['coordinated'],\n",
        "                'Pares Descoordinados': data['uncoordinated'],\n",
        "                'Total Pares Válidos': total_valid_pairs,\n",
        "                'Porcentaje Coordinación': percentage_coordination,\n",
        "                'Tiempo Diferencia Promedio': avg_time_diff,\n",
        "                'Desviación Estándar Tiempo': std_time_diff,\n",
        "                'Máxima Descoordinación': max_miscoordination,\n",
        "                'Descoordinación Promedio': avg_miscoordination,\n",
        "                'Calidad': quality\n",
        "            })\n",
        "\n",
        "        df = pd.DataFrame(data_for_analysis)\n",
        "\n",
        "        # --- ORDENAMIENTO NUMÉRICO ---\n",
        "        df['Scenario_Num'] = df['Escenario'].apply(extract_scenario_number)\n",
        "        df = df.sort_values(by='Scenario_Num').reset_index(drop=True)\n",
        "        print(\"✅ Datos ordenados por escenario numéricamente.\")\n",
        "\n",
        "        # --- IMPRESIÓN DE TABLA DETALLADA MEJORADA ---\n",
        "        print(\"\\n\" + \"=\"*120)\n",
        "        print(\"📋 RESULTADOS DETALLADOS POR ESCENARIO (ORDENADOS)\")\n",
        "        print(\"=\"*120)\n",
        "        print(f\"{'Escenario':<20} | {'Pares':>6} | {'Coord.':>6} | {'Desc.':>6} | {'% Coord.':>8} | {'TMT':>10} | {'Calidad':>8} | {'Max Desc.':>10}\")\n",
        "        print(\"-\" * 120)\n",
        "        for index, row in df.iterrows():\n",
        "            quality_icon = \"🟢\" if row['Calidad'] == 'GOOD' else \"🟡\" if row['Calidad'] == 'REGULAR' else \"🔴\"\n",
        "            print(f\"{row['Escenario']:<20} | {int(row['Total Pares Válidos']):>6} | {int(row['Pares Coordinados']):>6} | {int(row['Pares Descoordinados']):>6} | {row['Porcentaje Coordinación']:>7.1f}% | {row['TMT']:>9.4f} | {quality_icon}{row['Calidad']:<7} | {row['Máxima Descoordinación']:>9.3f}\")\n",
        "        print(\"-\" * 120)\n",
        "        print(f\"📊 Total pares leídos: {total_pairs_read:,}, Omitidos: {skipped_pairs_count}, Válidos Procesados: {df['Total Pares Válidos'].sum():,}\")\n",
        "\n",
        "        # --- ANÁLISIS ESTADÍSTICO AVANZADO ---\n",
        "        metrics = calculate_advanced_metrics(df)\n",
        "        assessment = generate_quality_assessment(metrics)\n",
        "        print_detailed_analysis(metrics, assessment)\n",
        "\n",
        "        return df, scenario_results, metrics\n",
        "\n",
        "    except Exception as e:\n",
        "        print(f\"❌ Error durante el análisis: {e}\")\n",
        "        traceback.print_exc()\n",
        "        return None, None, None\n",
        "\n",
        "print(\"✅ Función de análisis mejorada definida.\")\n"
      ]
    },
    {
      "cell_type": "code",
      "execution_count": 24,
      "metadata": {},
      "outputs": [
        {
          "name": "stdout",
          "output_type": "stream",
          "text": [
            "🚀 Iniciando análisis completo de coordinación de relés...\n",
            "⏰ Timestamp: 2025-10-06 19:08:56\n",
            "📊 Loading data from: /Users/gustavo/Documents/Projects/TESIS_UNAL/AutoDOC-MG/data/raw/automation_results.json\n",
            "✅ Data loaded successfully. Total entries: 6,800\n",
            "🔄 Calculando TMT y coordinación por escenario...\n",
            "📊 Preparando datos para visualización y análisis estadístico...\n",
            "✅ Datos ordenados por escenario numéricamente.\n",
            "\n",
            "========================================================================================================================\n",
            "📋 RESULTADOS DETALLADOS POR ESCENARIO (ORDENADOS)\n",
            "========================================================================================================================\n",
            "Escenario            |  Pares | Coord. |  Desc. | % Coord. |        TMT |  Calidad |  Max Desc.\n",
            "------------------------------------------------------------------------------------------------------------------------\n",
            "scenario_1           |    100 |     12 |     88 |    12.0% |  -15.8543 | 🔴CRITICAL |     0.384\n",
            "scenario_2           |    100 |     12 |     88 |    12.0% |  -18.9624 | 🔴CRITICAL |     0.982\n",
            "scenario_3           |    100 |     13 |     87 |    13.0% |  -17.8215 | 🔴CRITICAL |     0.511\n",
            "scenario_4           |    100 |     13 |     87 |    13.0% |  -15.2305 | 🔴CRITICAL |     0.384\n",
            "scenario_5           |    100 |     13 |     87 |    13.0% |  -24.9475 | 🔴CRITICAL |     3.716\n",
            "scenario_6           |    100 |     13 |     87 |    13.0% |  -20.9747 | 🔴CRITICAL |     1.829\n",
            "scenario_7           |    100 |     14 |     86 |    14.0% |  -17.7863 | 🔴CRITICAL |     0.510\n",
            "scenario_8           |    100 |     12 |     88 |    12.0% |  -19.0027 | 🔴CRITICAL |     0.989\n",
            "scenario_9           |    100 |     14 |     86 |    14.0% |  -20.1472 | 🔴CRITICAL |     1.907\n",
            "scenario_10          |    100 |     14 |     86 |    14.0% |  -19.2274 | 🔴CRITICAL |     1.293\n",
            "scenario_11          |    100 |     12 |     88 |    12.0% |  -17.8127 | 🔴CRITICAL |     0.502\n",
            "scenario_12          |    100 |     11 |     89 |    11.0% |  -18.1171 | 🔴CRITICAL |     0.509\n",
            "scenario_13          |    100 |     13 |     87 |    13.0% |  -18.4497 | 🔴CRITICAL |     1.809\n",
            "scenario_14          |    100 |     14 |     86 |    14.0% |  -45.6815 | 🔴CRITICAL |    14.306\n",
            "scenario_15          |    100 |     14 |     86 |    14.0% |  -32.1528 | 🔴CRITICAL |     7.376\n",
            "scenario_16          |    100 |     11 |     89 |    11.0% |  -23.6468 | 🔴CRITICAL |     3.204\n",
            "scenario_17          |    100 |     13 |     87 |    13.0% |  -17.7734 | 🔴CRITICAL |     0.495\n",
            "scenario_18          |    100 |     10 |     90 |    10.0% |  -18.3251 | 🔴CRITICAL |     0.499\n",
            "scenario_19          |    100 |     13 |     87 |    13.0% |  -18.0611 | 🔴CRITICAL |     0.503\n",
            "scenario_20          |    100 |     11 |     89 |    11.0% |  -18.2316 | 🔴CRITICAL |     0.506\n",
            "scenario_21          |    100 |     12 |     88 |    12.0% |  -15.9922 | 🔴CRITICAL |     0.403\n",
            "scenario_22          |    100 |     12 |     88 |    12.0% |  -15.8950 | 🔴CRITICAL |     0.388\n",
            "scenario_23          |    100 |     10 |     90 |    10.0% |  -15.6903 | 🔴CRITICAL |     0.388\n",
            "scenario_24          |    100 |     15 |     85 |    15.0% |  -15.5895 | 🔴CRITICAL |     0.393\n",
            "scenario_25          |    100 |     12 |     88 |    12.0% |  -15.6964 | 🔴CRITICAL |     0.399\n",
            "scenario_26          |    100 |      7 |     93 |     7.0% |  -15.8085 | 🔴CRITICAL |     0.413\n",
            "scenario_27          |    100 |     13 |     87 |    13.0% |  -15.8769 | 🔴CRITICAL |     0.384\n",
            "scenario_28          |    100 |     12 |     88 |    12.0% |  -15.8432 | 🔴CRITICAL |     0.384\n",
            "scenario_29          |    100 |     15 |     85 |    15.0% |  -15.7265 | 🔴CRITICAL |     0.408\n",
            "scenario_30          |    100 |      9 |     91 |     9.0% |  -15.6882 | 🔴CRITICAL |     0.392\n",
            "scenario_31          |    100 |     11 |     89 |    11.0% |  -15.8668 | 🔴CRITICAL |     0.408\n",
            "scenario_32          |    100 |     11 |     89 |    11.0% |  -15.8046 | 🔴CRITICAL |     0.394\n",
            "scenario_33          |    100 |     12 |     88 |    12.0% |  -15.5410 | 🔴CRITICAL |     0.395\n",
            "scenario_34          |    100 |     11 |     89 |    11.0% |  -15.6680 | 🔴CRITICAL |     0.387\n",
            "scenario_35          |    100 |     11 |     89 |    11.0% |  -15.5672 | 🔴CRITICAL |     0.395\n",
            "scenario_36          |    100 |     10 |     90 |    10.0% |  -15.6951 | 🔴CRITICAL |     0.385\n",
            "scenario_37          |    100 |     10 |     90 |    10.0% |  -19.9642 | 🔴CRITICAL |     1.235\n",
            "scenario_38          |    100 |      8 |     92 |     8.0% |  -19.4904 | 🔴CRITICAL |     1.054\n",
            "scenario_39          |    100 |     13 |     87 |    13.0% |  -17.9669 | 🔴CRITICAL |     0.509\n",
            "scenario_40          |    100 |     13 |     87 |    13.0% |  -17.8400 | 🔴CRITICAL |     0.506\n",
            "scenario_41          |    100 |     14 |     86 |    14.0% |  -18.7637 | 🔴CRITICAL |     1.036\n",
            "scenario_42          |    100 |     16 |     84 |    16.0% |  -17.7312 | 🔴CRITICAL |     0.517\n",
            "scenario_43          |    100 |     13 |     87 |    13.0% |  -17.5218 | 🔴CRITICAL |     0.505\n",
            "scenario_44          |    100 |     10 |     90 |    10.0% |  -17.6427 | 🔴CRITICAL |     0.498\n",
            "scenario_45          |    100 |     13 |     87 |    13.0% |  -22.8568 | 🔴CRITICAL |     2.701\n",
            "scenario_46          |    100 |     12 |     88 |    12.0% |  -21.0507 | 🔴CRITICAL |     1.917\n",
            "scenario_47          |    100 |     12 |     88 |    12.0% |  -20.7948 | 🔴CRITICAL |     1.687\n",
            "scenario_48          |    100 |     10 |     90 |    10.0% |  -19.9803 | 🔴CRITICAL |     1.355\n",
            "scenario_49          |    100 |     11 |     89 |    11.0% |  -17.7564 | 🔴CRITICAL |     0.493\n",
            "scenario_50          |    100 |      9 |     91 |     9.0% |  -17.7856 | 🔴CRITICAL |     0.496\n",
            "scenario_51          |    100 |     14 |     86 |    14.0% |  -17.5827 | 🔴CRITICAL |     0.499\n",
            "scenario_52          |    100 |     13 |     87 |    13.0% |  -17.6468 | 🔴CRITICAL |     0.503\n",
            "scenario_53          |    100 |      9 |     91 |     9.0% |  -15.5084 | 🔴CRITICAL |     0.384\n",
            "scenario_54          |    100 |     13 |     87 |    13.0% |  -15.3747 | 🔴CRITICAL |     0.383\n",
            "scenario_55          |    100 |     15 |     85 |    15.0% |  -15.0913 | 🔴CRITICAL |     0.383\n",
            "scenario_56          |    100 |     12 |     88 |    12.0% |  -14.9869 | 🔴CRITICAL |     0.384\n",
            "scenario_57          |    100 |     12 |     88 |    12.0% |  -15.2631 | 🔴CRITICAL |     0.393\n",
            "scenario_58          |    100 |     12 |     88 |    12.0% |  -15.2593 | 🔴CRITICAL |     0.388\n",
            "scenario_59          |    100 |     12 |     88 |    12.0% |  -15.1619 | 🔴CRITICAL |     0.380\n",
            "scenario_60          |    100 |     12 |     88 |    12.0% |  -15.0577 | 🔴CRITICAL |     0.377\n",
            "scenario_61          |    100 |     11 |     89 |    11.0% |  -15.4256 | 🔴CRITICAL |     0.393\n",
            "scenario_62          |    100 |     14 |     86 |    14.0% |  -15.3309 | 🔴CRITICAL |     0.393\n",
            "scenario_63          |    100 |     15 |     85 |    15.0% |  -15.4762 | 🔴CRITICAL |     0.389\n",
            "scenario_64          |    100 |     11 |     89 |    11.0% |  -15.3634 | 🔴CRITICAL |     0.388\n",
            "scenario_65          |    100 |     15 |     85 |    15.0% |  -14.8151 | 🔴CRITICAL |     0.379\n",
            "scenario_66          |    100 |     14 |     86 |    14.0% |  -14.9448 | 🔴CRITICAL |     0.376\n",
            "scenario_67          |    100 |     14 |     86 |    14.0% |  -14.8980 | 🔴CRITICAL |     0.380\n",
            "scenario_68          |    100 |     16 |     84 |    16.0% |  -15.0429 | 🔴CRITICAL |     0.380\n",
            "------------------------------------------------------------------------------------------------------------------------\n",
            "📊 Total pares leídos: 6,800, Omitidos: 0, Válidos Procesados: 6,800\n",
            "\n",
            "================================================================================\n",
            "📊 ANÁLISIS DETALLADO DE COORDINACIÓN DE RELÉS\n",
            "================================================================================\n",
            "\n",
            "📈 MÉTRICAS GENERALES:\n",
            "   • Total de escenarios analizados: 68\n",
            "   • Total de pares de relés: 6,800\n",
            "   • Pares coordinados: 833 (12.25%)\n",
            "   • Pares descoordinados: 5,967\n",
            "   • TMT total acumulado: -1215.5309 segundos\n",
            "\n",
            "📊 ESTADÍSTICAS DESCRIPTIVAS:\n",
            "   • Coordinación promedio: 12.25% ± 1.85%\n",
            "   • Coordinación mediana: 12.00%\n",
            "   • Rango de coordinación: 9.00%\n",
            "   • TMT promedio: -16.7570 segundos\n",
            "\n",
            "🎯 EVALUACIÓN DE CALIDAD:\n",
            "   • Escenarios con coordinación ≥80%: 0 (0.0%)\n",
            "   • Escenarios con TMT crítico: 9 (13.2%)\n",
            "\n",
            "🏆 CALIFICACIÓN GENERAL: CRITICAL\n",
            "   • Estado de coordinación: INSUFFICIENT\n",
            "   • Estado de TMT: CRITICAL\n",
            "\n",
            "💡 RECOMENDACIONES:\n",
            "   1. 🔴 CRITICAL: Very low average coordination. Review relay configurations.\n",
            "   2. 🔴 CRITICAL: Very negative total TMT. Multiple severe miscoordinations.\n",
            "   3. 🟡 WARNING: Few scenarios with acceptable coordination.\n",
            "================================================================================\n",
            "\n",
            "✅ Análisis completado exitosamente.\n",
            "📊 Se procesaron 68 escenarios.\n",
            "🔢 TMT total: -1215.5309\n",
            "📈 Coordinación promedio: 12.25%\n",
            "\n",
            "📊 Los datos están listos para visualización.\n",
            "   Ejecuta la siguiente celda para generar las visualizaciones.\n",
            "\n",
            "🔍 RESUMEN DE RESULTADOS CRÍTICOS:\n",
            "   Top 3 escenarios con mayor penalización TMT:\n",
            "   • scenario_14: TMT = -45.6815, Coordinación = 14.0%\n",
            "   • scenario_15: TMT = -32.1528, Coordinación = 14.0%\n",
            "   • scenario_5: TMT = -24.9475, Coordinación = 13.0%\n",
            "\n",
            "   Escenarios con coordinación < 20%: 68 de 68\n",
            "   Peores casos:\n",
            "   • scenario_1: 12.0% coordinación\n",
            "   • scenario_2: 12.0% coordinación\n",
            "   • scenario_3: 13.0% coordinación\n"
          ]
        }
      ],
      "source": [
        "# %% Ejecutar Análisis Completo\n",
        "print(\"🚀 Iniciando análisis completo de coordinación de relés...\")\n",
        "print(f\"⏰ Timestamp: {datetime.now().strftime('%Y-%m-%d %H:%M:%S')}\")\n",
        "\n",
        "# Ejecutar análisis principal\n",
        "df_results, scenario_data, metrics = analyze_all_scenarios()\n",
        "\n",
        "if df_results is not None and not df_results.empty:\n",
        "    print(f\"\\n✅ Análisis completado exitosamente.\")\n",
        "    print(f\"📊 Se procesaron {len(df_results)} escenarios.\")\n",
        "    print(f\"🔢 TMT total: {df_results['TMT'].sum():.4f}\")\n",
        "    print(f\"📈 Coordinación promedio: {df_results['Porcentaje Coordinación'].mean():.2f}%\")\n",
        "    \n",
        "    print(\"\\n📊 Los datos están listos para visualización.\")\n",
        "    print(\"   Ejecuta la siguiente celda para generar las visualizaciones.\")\n",
        "    \n",
        "    # Mostrar resumen rápido de los resultados más críticos\n",
        "    print(\"\\n🔍 RESUMEN DE RESULTADOS CRÍTICOS:\")\n",
        "    worst_scenarios = df_results.nsmallest(3, 'TMT')\n",
        "    print(\"   Top 3 escenarios con mayor penalización TMT:\")\n",
        "    for _, row in worst_scenarios.iterrows():\n",
        "        print(f\"   • {row['Escenario']}: TMT = {row['TMT']:.4f}, Coordinación = {row['Porcentaje Coordinación']:.1f}%\")\n",
        "    \n",
        "    critical_scenarios = df_results[df_results['Porcentaje Coordinación'] < 20]\n",
        "    print(f\"\\n   Escenarios con coordinación < 20%: {len(critical_scenarios)} de {len(df_results)}\")\n",
        "    \n",
        "    if len(critical_scenarios) > 0:\n",
        "        print(\"   Peores casos:\")\n",
        "        for _, row in critical_scenarios.head(3).iterrows():\n",
        "            print(f\"   • {row['Escenario']}: {row['Porcentaje Coordinación']:.1f}% coordinación\")\n",
        "    \n",
        "else:\n",
        "    print(\"❌ Error: No se pudieron generar resultados del análisis.\")\n"
      ]
    },
    {
      "cell_type": "code",
      "execution_count": 25,
      "metadata": {},
      "outputs": [
        {
          "name": "stdout",
          "output_type": "stream",
          "text": [
            "✅ Funciones de visualización esenciales definidas.\n"
          ]
        }
      ],
      "source": [
        "# %% Funciones de Visualización Esenciales\n",
        "def create_essential_visualizations(df, config):\n",
        "    \"\"\"\n",
        "    Crea solo las visualizaciones más importantes para el análisis.\n",
        "    \"\"\"\n",
        "    if df is None or df.empty:\n",
        "        print(\"❌ No hay datos para visualizar.\")\n",
        "        return []\n",
        "    \n",
        "    figures = []\n",
        "    \n",
        "    # 1. Gráfico de Coordinación con Código de Colores por Calidad\n",
        "    fig_coord = create_coordination_quality_chart(df, config)\n",
        "    figures.append(('coordination_quality', fig_coord))\n",
        "    \n",
        "    # 2. Gráfico de TMT con Análisis de Severidad\n",
        "    fig_tmt = create_tmt_severity_chart(df, config)\n",
        "    figures.append(('tmt_severity', fig_tmt))\n",
        "    \n",
        "    # 3. Dashboard de Métricas Clave\n",
        "    fig_dashboard = create_metrics_dashboard(df, config)\n",
        "    figures.append(('metrics_dashboard', fig_dashboard))\n",
        "    \n",
        "    return figures\n",
        "\n",
        "def create_coordination_quality_chart(df, config):\n",
        "    \"\"\"Gráfico de coordinación con código de colores por calidad\"\"\"\n",
        "    fig = px.bar(\n",
        "        df,\n",
        "        x='Escenario',\n",
        "        y='Porcentaje Coordinación',\n",
        "        color='Calidad',\n",
        "        color_discrete_map={\n",
        "            'GOOD': config.COLORS['good'],\n",
        "            'REGULAR': config.COLORS['warning'],\n",
        "            'CRITICAL': config.COLORS['critical']\n",
        "        },\n",
        "        text='Porcentaje Coordinación',\n",
        "        title='Coordination Quality Analysis by Scenario',\n",
        "        labels={'Porcentaje Coordinación': 'Coordination (%)', 'Escenario': 'Operational Scenario'},\n",
        "        hover_data=['Pares Coordinados', 'Pares Descoordinados', 'TMT']\n",
        "    )\n",
        "    \n",
        "    fig.update_traces(\n",
        "        texttemplate='%{text:.1f}%',\n",
        "        textposition='outside',\n",
        "        textfont_size=config.TEXT_ON_BAR_FONT_SIZE\n",
        "    )\n",
        "    \n",
        "    fig.update_layout(\n",
        "        template=config.PLOT_TEMPLATE,\n",
        "        width=config.FIG_WIDTH,\n",
        "        height=config.FIG_HEIGHT,\n",
        "        title_font_size=config.TITLE_FONT_SIZE,\n",
        "        xaxis_title='<b>Operational Scenario</b>',\n",
        "        yaxis_title='<b>Coordination (%)</b>',\n",
        "        xaxis={'categoryorder': 'array', 'categoryarray': df['Escenario'].tolist()},\n",
        "        yaxis=dict(range=[0, 105]),\n",
        "        margin=dict(l=80, r=50, t=100, b=80)\n",
        "    )\n",
        "    \n",
        "    return fig\n",
        "\n",
        "def create_tmt_severity_chart(df, config):\n",
        "    \"\"\"Gráfico de TMT con análisis de severidad\"\"\"\n",
        "    # Clasificar TMT por severidad\n",
        "    df['Severidad'] = df['TMT'].apply(lambda x: \n",
        "        'CRITICAL' if x <= config.CRITICAL_TMT_THRESHOLD else\n",
        "        'HIGH' if x <= -10 else\n",
        "        'MODERATE' if x <= -5 else\n",
        "        'LOW' if x < 0 else 'NONE'\n",
        "    )\n",
        "    \n",
        "    fig = px.bar(\n",
        "        df,\n",
        "        x='Escenario',\n",
        "        y='TMT',\n",
        "        color='Severidad',\n",
        "        color_discrete_map={\n",
        "            'CRITICAL': config.COLORS['critical'],\n",
        "            'HIGH': config.COLORS['uncoordinated'],\n",
        "            'MODERATE': config.COLORS['warning'],\n",
        "            'LOW': '#FFA500',\n",
        "            'NONE': config.COLORS['good']\n",
        "        },\n",
        "        text='TMT',\n",
        "        title='Análisis de Severidad de TMT por Escenario',\n",
        "        labels={'TMT': 'TMT Acumulado (s)', 'Escenario': 'Operational Scenario'},\n",
        "        hover_data=['Porcentaje Coordinación', 'Pares Coordinados', 'Pares Descoordinados']\n",
        "    )\n",
        "    \n",
        "    fig.update_traces(\n",
        "        texttemplate='%{text:.3f}',\n",
        "        textposition='outside',\n",
        "        textfont_size=config.TEXT_ON_BAR_FONT_SIZE\n",
        "    )\n",
        "    \n",
        "    fig.update_layout(\n",
        "        template=config.PLOT_TEMPLATE,\n",
        "        width=config.FIG_WIDTH,\n",
        "        height=config.FIG_HEIGHT,\n",
        "        title_font_size=config.TITLE_FONT_SIZE,\n",
        "        xaxis_title='<b>Operational Scenario</b>',\n",
        "        yaxis_title='<b>TMT Acumulado (s)</b>',\n",
        "        xaxis={'categoryorder': 'array', 'categoryarray': df['Escenario'].tolist()},\n",
        "        margin=dict(l=80, r=50, t=100, b=80)\n",
        "    )\n",
        "    \n",
        "    return fig\n",
        "\n",
        "def create_metrics_dashboard(df, config):\n",
        "    \"\"\"Dashboard con métricas clave\"\"\"\n",
        "    # Crear subplots\n",
        "    fig = make_subplots(\n",
        "        rows=2, cols=2,\n",
        "        subplot_titles=(\n",
        "            'Distribución de Coordinación',\n",
        "            'Distribución de TMT',\n",
        "            'Coordinación vs TMT',\n",
        "            'Resumen de Calidad'\n",
        "        ),\n",
        "        specs=[[{\"type\": \"histogram\"}, {\"type\": \"histogram\"}],\n",
        "               [{\"type\": \"scatter\"}, {\"type\": \"bar\"}]]\n",
        "    )\n",
        "    \n",
        "    # Histograma de coordinación\n",
        "    fig.add_trace(\n",
        "        go.Histogram(x=df['Porcentaje Coordinación'], nbinsx=15, name='Coordinación', \n",
        "                    marker_color=config.COLORS['primary']),\n",
        "        row=1, col=1\n",
        "    )\n",
        "    \n",
        "    # Histograma de TMT\n",
        "    fig.add_trace(\n",
        "        go.Histogram(x=df['TMT'], nbinsx=15, name='TMT', \n",
        "                    marker_color=config.COLORS['secondary']),\n",
        "        row=1, col=2\n",
        "    )\n",
        "    \n",
        "    # Scatter plot: Coordinación vs TMT\n",
        "    fig.add_trace(\n",
        "        go.Scatter(x=df['Porcentaje Coordinación'], y=df['TMT'], mode='markers',\n",
        "                  marker=dict(color=df['Porcentaje Coordinación'], colorscale='RdYlGn',\n",
        "                             size=6, showscale=True),\n",
        "                  text=df['Escenario'], name='Escenarios'),\n",
        "        row=2, col=1\n",
        "    )\n",
        "    \n",
        "    # Resumen de calidad\n",
        "    quality_counts = df['Calidad'].value_counts()\n",
        "    colors_list = [config.COLORS['good'], config.COLORS['warning'], config.COLORS['critical']]\n",
        "    fig.add_trace(\n",
        "        go.Bar(x=quality_counts.index, y=quality_counts.values,\n",
        "               marker_color=colors_list[:len(quality_counts)],\n",
        "               name='Calidad'),\n",
        "        row=2, col=2\n",
        "    )\n",
        "    \n",
        "    fig.update_layout(\n",
        "        template=config.PLOT_TEMPLATE,\n",
        "        width=config.FIG_WIDTH + 200,\n",
        "        height=config.FIG_HEIGHT + 200,\n",
        "        title_text=\"Dashboard de Análisis de Coordinación de Relés\",\n",
        "        title_font_size=config.TITLE_FONT_SIZE,\n",
        "        showlegend=False\n",
        "    )\n",
        "    \n",
        "    return fig\n",
        "\n",
        "print(\"✅ Funciones de visualización esenciales definidas.\")\n"
      ]
    },
    {
      "cell_type": "code",
      "execution_count": 26,
      "metadata": {},
      "outputs": [
        {
          "name": "stdout",
          "output_type": "stream",
          "text": [
            "🎨 Generando visualizaciones esenciales...\n",
            "✅ Se generaron 3 visualizaciones esenciales.\n",
            "\n",
            "📊 Mostrando visualizaciones:\n",
            "   • Showing: coordination_quality\n"
          ]
        },
        {
          "data": {
            "application/vnd.plotly.v1+json": {
              "config": {
                "plotlyServerURL": "https://plot.ly"
              },
              "data": [
                {
                  "customdata": {
                    "bdata": "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",
                    "dtype": "f8",
                    "shape": "68, 3"
                  },
                  "hovertemplate": "Calidad=CRITICAL<br>Operational Scenario=%{x}<br>Coordination (%)=%{text}<br>Pares Coordinados=%{customdata[0]}<br>Pares Descoordinados=%{customdata[1]}<br>TMT=%{customdata[2]}<extra></extra>",
                  "legendgroup": "CRITICAL",
                  "marker": {
                    "color": "#FF4500",
                    "pattern": {
                      "shape": ""
                    }
                  },
                  "name": "CRITICAL",
                  "orientation": "v",
                  "showlegend": true,
                  "text": {
                    "bdata": "AAAAAAAAKEAAAAAAAAAoQAAAAAAAACpAAAAAAAAAKkAAAAAAAAAqQAAAAAAAACpAAQAAAAAALEAAAAAAAAAoQAEAAAAAACxAAQAAAAAALEAAAAAAAAAoQAAAAAAAACZAAAAAAAAAKkABAAAAAAAsQAEAAAAAACxAAAAAAAAAJkAAAAAAAAAqQAAAAAAAACRAAAAAAAAAKkAAAAAAAAAmQAAAAAAAAChAAAAAAAAAKEAAAAAAAAAkQAAAAAAAAC5AAAAAAAAAKEABAAAAAAAcQAAAAAAAACpAAAAAAAAAKEAAAAAAAAAuQAAAAAAAACJAAAAAAAAAJkAAAAAAAAAmQAAAAAAAAChAAAAAAAAAJkAAAAAAAAAmQAAAAAAAACRAAAAAAAAAJEAAAAAAAAAgQAAAAAAAACpAAAAAAAAAKkABAAAAAAAsQAAAAAAAADBAAAAAAAAAKkAAAAAAAAAkQAAAAAAAACpAAAAAAAAAKEAAAAAAAAAoQAAAAAAAACRAAAAAAAAAJkAAAAAAAAAiQAEAAAAAACxAAAAAAAAAKkAAAAAAAAAiQAAAAAAAACpAAAAAAAAALkAAAAAAAAAoQAAAAAAAAChAAAAAAAAAKEAAAAAAAAAoQAAAAAAAAChAAAAAAAAAJkABAAAAAAAsQAAAAAAAAC5AAAAAAAAAJkAAAAAAAAAuQAEAAAAAACxAAQAAAAAALEAAAAAAAAAwQA==",
                    "dtype": "f8"
                  },
                  "textfont": {
                    "size": 10
                  },
                  "textposition": "outside",
                  "texttemplate": "%{text:.1f}%",
                  "type": "bar",
                  "x": [
                    "scenario_1",
                    "scenario_2",
                    "scenario_3",
                    "scenario_4",
                    "scenario_5",
                    "scenario_6",
                    "scenario_7",
                    "scenario_8",
                    "scenario_9",
                    "scenario_10",
                    "scenario_11",
                    "scenario_12",
                    "scenario_13",
                    "scenario_14",
                    "scenario_15",
                    "scenario_16",
                    "scenario_17",
                    "scenario_18",
                    "scenario_19",
                    "scenario_20",
                    "scenario_21",
                    "scenario_22",
                    "scenario_23",
                    "scenario_24",
                    "scenario_25",
                    "scenario_26",
                    "scenario_27",
                    "scenario_28",
                    "scenario_29",
                    "scenario_30",
                    "scenario_31",
                    "scenario_32",
                    "scenario_33",
                    "scenario_34",
                    "scenario_35",
                    "scenario_36",
                    "scenario_37",
                    "scenario_38",
                    "scenario_39",
                    "scenario_40",
                    "scenario_41",
                    "scenario_42",
                    "scenario_43",
                    "scenario_44",
                    "scenario_45",
                    "scenario_46",
                    "scenario_47",
                    "scenario_48",
                    "scenario_49",
                    "scenario_50",
                    "scenario_51",
                    "scenario_52",
                    "scenario_53",
                    "scenario_54",
                    "scenario_55",
                    "scenario_56",
                    "scenario_57",
                    "scenario_58",
                    "scenario_59",
                    "scenario_60",
                    "scenario_61",
                    "scenario_62",
                    "scenario_63",
                    "scenario_64",
                    "scenario_65",
                    "scenario_66",
                    "scenario_67",
                    "scenario_68"
                  ],
                  "xaxis": "x",
                  "y": {
                    "bdata": "AAAAAAAAKEAAAAAAAAAoQAAAAAAAACpAAAAAAAAAKkAAAAAAAAAqQAAAAAAAACpAAQAAAAAALEAAAAAAAAAoQAEAAAAAACxAAQAAAAAALEAAAAAAAAAoQAAAAAAAACZAAAAAAAAAKkABAAAAAAAsQAEAAAAAACxAAAAAAAAAJkAAAAAAAAAqQAAAAAAAACRAAAAAAAAAKkAAAAAAAAAmQAAAAAAAAChAAAAAAAAAKEAAAAAAAAAkQAAAAAAAAC5AAAAAAAAAKEABAAAAAAAcQAAAAAAAACpAAAAAAAAAKEAAAAAAAAAuQAAAAAAAACJAAAAAAAAAJkAAAAAAAAAmQAAAAAAAAChAAAAAAAAAJkAAAAAAAAAmQAAAAAAAACRAAAAAAAAAJEAAAAAAAAAgQAAAAAAAACpAAAAAAAAAKkABAAAAAAAsQAAAAAAAADBAAAAAAAAAKkAAAAAAAAAkQAAAAAAAACpAAAAAAAAAKEAAAAAAAAAoQAAAAAAAACRAAAAAAAAAJkAAAAAAAAAiQAEAAAAAACxAAAAAAAAAKkAAAAAAAAAiQAAAAAAAACpAAAAAAAAALkAAAAAAAAAoQAAAAAAAAChAAAAAAAAAKEAAAAAAAAAoQAAAAAAAAChAAAAAAAAAJkABAAAAAAAsQAAAAAAAAC5AAAAAAAAAJkAAAAAAAAAuQAEAAAAAACxAAQAAAAAALEAAAAAAAAAwQA==",
                    "dtype": "f8"
                  },
                  "yaxis": "y"
                }
              ],
              "layout": {
                "barmode": "relative",
                "height": 600,
                "legend": {
                  "title": {
                    "text": "Calidad"
                  },
                  "tracegroupgap": 0
                },
                "margin": {
                  "b": 80,
                  "l": 80,
                  "r": 50,
                  "t": 100
                },
                "template": {
                  "data": {
                    "bar": [
                      {
                        "error_x": {
                          "color": "#2a3f5f"
                        },
                        "error_y": {
                          "color": "#2a3f5f"
                        },
                        "marker": {
                          "line": {
                            "color": "white",
                            "width": 0.5
                          },
                          "pattern": {
                            "fillmode": "overlay",
                            "size": 10,
                            "solidity": 0.2
                          }
                        },
                        "type": "bar"
                      }
                    ],
                    "barpolar": [
                      {
                        "marker": {
                          "line": {
                            "color": "white",
                            "width": 0.5
                          },
                          "pattern": {
                            "fillmode": "overlay",
                            "size": 10,
                            "solidity": 0.2
                          }
                        },
                        "type": "barpolar"
                      }
                    ],
                    "carpet": [
                      {
                        "aaxis": {
                          "endlinecolor": "#2a3f5f",
                          "gridcolor": "#C8D4E3",
                          "linecolor": "#C8D4E3",
                          "minorgridcolor": "#C8D4E3",
                          "startlinecolor": "#2a3f5f"
                        },
                        "baxis": {
                          "endlinecolor": "#2a3f5f",
                          "gridcolor": "#C8D4E3",
                          "linecolor": "#C8D4E3",
                          "minorgridcolor": "#C8D4E3",
                          "startlinecolor": "#2a3f5f"
                        },
                        "type": "carpet"
                      }
                    ],
                    "choropleth": [
                      {
                        "colorbar": {
                          "outlinewidth": 0,
                          "ticks": ""
                        },
                        "type": "choropleth"
                      }
                    ],
                    "contour": [
                      {
                        "colorbar": {
                          "outlinewidth": 0,
                          "ticks": ""
                        },
                        "colorscale": [
                          [
                            0,
                            "#0d0887"
                          ],
                          [
                            0.1111111111111111,
                            "#46039f"
                          ],
                          [
                            0.2222222222222222,
                            "#7201a8"
                          ],
                          [
                            0.3333333333333333,
                            "#9c179e"
                          ],
                          [
                            0.4444444444444444,
                            "#bd3786"
                          ],
                          [
                            0.5555555555555556,
                            "#d8576b"
                          ],
                          [
                            0.6666666666666666,
                            "#ed7953"
                          ],
                          [
                            0.7777777777777778,
                            "#fb9f3a"
                          ],
                          [
                            0.8888888888888888,
                            "#fdca26"
                          ],
                          [
                            1,
                            "#f0f921"
                          ]
                        ],
                        "type": "contour"
                      }
                    ],
                    "contourcarpet": [
                      {
                        "colorbar": {
                          "outlinewidth": 0,
                          "ticks": ""
                        },
                        "type": "contourcarpet"
                      }
                    ],
                    "heatmap": [
                      {
                        "colorbar": {
                          "outlinewidth": 0,
                          "ticks": ""
                        },
                        "colorscale": [
                          [
                            0,
                            "#0d0887"
                          ],
                          [
                            0.1111111111111111,
                            "#46039f"
                          ],
                          [
                            0.2222222222222222,
                            "#7201a8"
                          ],
                          [
                            0.3333333333333333,
                            "#9c179e"
                          ],
                          [
                            0.4444444444444444,
                            "#bd3786"
                          ],
                          [
                            0.5555555555555556,
                            "#d8576b"
                          ],
                          [
                            0.6666666666666666,
                            "#ed7953"
                          ],
                          [
                            0.7777777777777778,
                            "#fb9f3a"
                          ],
                          [
                            0.8888888888888888,
                            "#fdca26"
                          ],
                          [
                            1,
                            "#f0f921"
                          ]
                        ],
                        "type": "heatmap"
                      }
                    ],
                    "histogram": [
                      {
                        "marker": {
                          "pattern": {
                            "fillmode": "overlay",
                            "size": 10,
                            "solidity": 0.2
                          }
                        },
                        "type": "histogram"
                      }
                    ],
                    "histogram2d": [
                      {
                        "colorbar": {
                          "outlinewidth": 0,
                          "ticks": ""
                        },
                        "colorscale": [
                          [
                            0,
                            "#0d0887"
                          ],
                          [
                            0.1111111111111111,
                            "#46039f"
                          ],
                          [
                            0.2222222222222222,
                            "#7201a8"
                          ],
                          [
                            0.3333333333333333,
                            "#9c179e"
                          ],
                          [
                            0.4444444444444444,
                            "#bd3786"
                          ],
                          [
                            0.5555555555555556,
                            "#d8576b"
                          ],
                          [
                            0.6666666666666666,
                            "#ed7953"
                          ],
                          [
                            0.7777777777777778,
                            "#fb9f3a"
                          ],
                          [
                            0.8888888888888888,
                            "#fdca26"
                          ],
                          [
                            1,
                            "#f0f921"
                          ]
                        ],
                        "type": "histogram2d"
                      }
                    ],
                    "histogram2dcontour": [
                      {
                        "colorbar": {
                          "outlinewidth": 0,
                          "ticks": ""
                        },
                        "colorscale": [
                          [
                            0,
                            "#0d0887"
                          ],
                          [
                            0.1111111111111111,
                            "#46039f"
                          ],
                          [
                            0.2222222222222222,
                            "#7201a8"
                          ],
                          [
                            0.3333333333333333,
                            "#9c179e"
                          ],
                          [
                            0.4444444444444444,
                            "#bd3786"
                          ],
                          [
                            0.5555555555555556,
                            "#d8576b"
                          ],
                          [
                            0.6666666666666666,
                            "#ed7953"
                          ],
                          [
                            0.7777777777777778,
                            "#fb9f3a"
                          ],
                          [
                            0.8888888888888888,
                            "#fdca26"
                          ],
                          [
                            1,
                            "#f0f921"
                          ]
                        ],
                        "type": "histogram2dcontour"
                      }
                    ],
                    "mesh3d": [
                      {
                        "colorbar": {
                          "outlinewidth": 0,
                          "ticks": ""
                        },
                        "type": "mesh3d"
                      }
                    ],
                    "parcoords": [
                      {
                        "line": {
                          "colorbar": {
                            "outlinewidth": 0,
                            "ticks": ""
                          }
                        },
                        "type": "parcoords"
                      }
                    ],
                    "pie": [
                      {
                        "automargin": true,
                        "type": "pie"
                      }
                    ],
                    "scatter": [
                      {
                        "fillpattern": {
                          "fillmode": "overlay",
                          "size": 10,
                          "solidity": 0.2
                        },
                        "type": "scatter"
                      }
                    ],
                    "scatter3d": [
                      {
                        "line": {
                          "colorbar": {
                            "outlinewidth": 0,
                            "ticks": ""
                          }
                        },
                        "marker": {
                          "colorbar": {
                            "outlinewidth": 0,
                            "ticks": ""
                          }
                        },
                        "type": "scatter3d"
                      }
                    ],
                    "scattercarpet": [
                      {
                        "marker": {
                          "colorbar": {
                            "outlinewidth": 0,
                            "ticks": ""
                          }
                        },
                        "type": "scattercarpet"
                      }
                    ],
                    "scattergeo": [
                      {
                        "marker": {
                          "colorbar": {
                            "outlinewidth": 0,
                            "ticks": ""
                          }
                        },
                        "type": "scattergeo"
                      }
                    ],
                    "scattergl": [
                      {
                        "marker": {
                          "colorbar": {
                            "outlinewidth": 0,
                            "ticks": ""
                          }
                        },
                        "type": "scattergl"
                      }
                    ],
                    "scattermap": [
                      {
                        "marker": {
                          "colorbar": {
                            "outlinewidth": 0,
                            "ticks": ""
                          }
                        },
                        "type": "scattermap"
                      }
                    ],
                    "scattermapbox": [
                      {
                        "marker": {
                          "colorbar": {
                            "outlinewidth": 0,
                            "ticks": ""
                          }
                        },
                        "type": "scattermapbox"
                      }
                    ],
                    "scatterpolar": [
                      {
                        "marker": {
                          "colorbar": {
                            "outlinewidth": 0,
                            "ticks": ""
                          }
                        },
                        "type": "scatterpolar"
                      }
                    ],
                    "scatterpolargl": [
                      {
                        "marker": {
                          "colorbar": {
                            "outlinewidth": 0,
                            "ticks": ""
                          }
                        },
                        "type": "scatterpolargl"
                      }
                    ],
                    "scatterternary": [
                      {
                        "marker": {
                          "colorbar": {
                            "outlinewidth": 0,
                            "ticks": ""
                          }
                        },
                        "type": "scatterternary"
                      }
                    ],
                    "surface": [
                      {
                        "colorbar": {
                          "outlinewidth": 0,
                          "ticks": ""
                        },
                        "colorscale": [
                          [
                            0,
                            "#0d0887"
                          ],
                          [
                            0.1111111111111111,
                            "#46039f"
                          ],
                          [
                            0.2222222222222222,
                            "#7201a8"
                          ],
                          [
                            0.3333333333333333,
                            "#9c179e"
                          ],
                          [
                            0.4444444444444444,
                            "#bd3786"
                          ],
                          [
                            0.5555555555555556,
                            "#d8576b"
                          ],
                          [
                            0.6666666666666666,
                            "#ed7953"
                          ],
                          [
                            0.7777777777777778,
                            "#fb9f3a"
                          ],
                          [
                            0.8888888888888888,
                            "#fdca26"
                          ],
                          [
                            1,
                            "#f0f921"
                          ]
                        ],
                        "type": "surface"
                      }
                    ],
                    "table": [
                      {
                        "cells": {
                          "fill": {
                            "color": "#EBF0F8"
                          },
                          "line": {
                            "color": "white"
                          }
                        },
                        "header": {
                          "fill": {
                            "color": "#C8D4E3"
                          },
                          "line": {
                            "color": "white"
                          }
                        },
                        "type": "table"
                      }
                    ]
                  },
                  "layout": {
                    "annotationdefaults": {
                      "arrowcolor": "#2a3f5f",
                      "arrowhead": 0,
                      "arrowwidth": 1
                    },
                    "autotypenumbers": "strict",
                    "coloraxis": {
                      "colorbar": {
                        "outlinewidth": 0,
                        "ticks": ""
                      }
                    },
                    "colorscale": {
                      "diverging": [
                        [
                          0,
                          "#8e0152"
                        ],
                        [
                          0.1,
                          "#c51b7d"
                        ],
                        [
                          0.2,
                          "#de77ae"
                        ],
                        [
                          0.3,
                          "#f1b6da"
                        ],
                        [
                          0.4,
                          "#fde0ef"
                        ],
                        [
                          0.5,
                          "#f7f7f7"
                        ],
                        [
                          0.6,
                          "#e6f5d0"
                        ],
                        [
                          0.7,
                          "#b8e186"
                        ],
                        [
                          0.8,
                          "#7fbc41"
                        ],
                        [
                          0.9,
                          "#4d9221"
                        ],
                        [
                          1,
                          "#276419"
                        ]
                      ],
                      "sequential": [
                        [
                          0,
                          "#0d0887"
                        ],
                        [
                          0.1111111111111111,
                          "#46039f"
                        ],
                        [
                          0.2222222222222222,
                          "#7201a8"
                        ],
                        [
                          0.3333333333333333,
                          "#9c179e"
                        ],
                        [
                          0.4444444444444444,
                          "#bd3786"
                        ],
                        [
                          0.5555555555555556,
                          "#d8576b"
                        ],
                        [
                          0.6666666666666666,
                          "#ed7953"
                        ],
                        [
                          0.7777777777777778,
                          "#fb9f3a"
                        ],
                        [
                          0.8888888888888888,
                          "#fdca26"
                        ],
                        [
                          1,
                          "#f0f921"
                        ]
                      ],
                      "sequentialminus": [
                        [
                          0,
                          "#0d0887"
                        ],
                        [
                          0.1111111111111111,
                          "#46039f"
                        ],
                        [
                          0.2222222222222222,
                          "#7201a8"
                        ],
                        [
                          0.3333333333333333,
                          "#9c179e"
                        ],
                        [
                          0.4444444444444444,
                          "#bd3786"
                        ],
                        [
                          0.5555555555555556,
                          "#d8576b"
                        ],
                        [
                          0.6666666666666666,
                          "#ed7953"
                        ],
                        [
                          0.7777777777777778,
                          "#fb9f3a"
                        ],
                        [
                          0.8888888888888888,
                          "#fdca26"
                        ],
                        [
                          1,
                          "#f0f921"
                        ]
                      ]
                    },
                    "colorway": [
                      "#636efa",
                      "#EF553B",
                      "#00cc96",
                      "#ab63fa",
                      "#FFA15A",
                      "#19d3f3",
                      "#FF6692",
                      "#B6E880",
                      "#FF97FF",
                      "#FECB52"
                    ],
                    "font": {
                      "color": "#2a3f5f"
                    },
                    "geo": {
                      "bgcolor": "white",
                      "lakecolor": "white",
                      "landcolor": "white",
                      "showlakes": true,
                      "showland": true,
                      "subunitcolor": "#C8D4E3"
                    },
                    "hoverlabel": {
                      "align": "left"
                    },
                    "hovermode": "closest",
                    "mapbox": {
                      "style": "light"
                    },
                    "paper_bgcolor": "white",
                    "plot_bgcolor": "white",
                    "polar": {
                      "angularaxis": {
                        "gridcolor": "#EBF0F8",
                        "linecolor": "#EBF0F8",
                        "ticks": ""
                      },
                      "bgcolor": "white",
                      "radialaxis": {
                        "gridcolor": "#EBF0F8",
                        "linecolor": "#EBF0F8",
                        "ticks": ""
                      }
                    },
                    "scene": {
                      "xaxis": {
                        "backgroundcolor": "white",
                        "gridcolor": "#DFE8F3",
                        "gridwidth": 2,
                        "linecolor": "#EBF0F8",
                        "showbackground": true,
                        "ticks": "",
                        "zerolinecolor": "#EBF0F8"
                      },
                      "yaxis": {
                        "backgroundcolor": "white",
                        "gridcolor": "#DFE8F3",
                        "gridwidth": 2,
                        "linecolor": "#EBF0F8",
                        "showbackground": true,
                        "ticks": "",
                        "zerolinecolor": "#EBF0F8"
                      },
                      "zaxis": {
                        "backgroundcolor": "white",
                        "gridcolor": "#DFE8F3",
                        "gridwidth": 2,
                        "linecolor": "#EBF0F8",
                        "showbackground": true,
                        "ticks": "",
                        "zerolinecolor": "#EBF0F8"
                      }
                    },
                    "shapedefaults": {
                      "line": {
                        "color": "#2a3f5f"
                      }
                    },
                    "ternary": {
                      "aaxis": {
                        "gridcolor": "#DFE8F3",
                        "linecolor": "#A2B1C6",
                        "ticks": ""
                      },
                      "baxis": {
                        "gridcolor": "#DFE8F3",
                        "linecolor": "#A2B1C6",
                        "ticks": ""
                      },
                      "bgcolor": "white",
                      "caxis": {
                        "gridcolor": "#DFE8F3",
                        "linecolor": "#A2B1C6",
                        "ticks": ""
                      }
                    },
                    "title": {
                      "x": 0.05
                    },
                    "xaxis": {
                      "automargin": true,
                      "gridcolor": "#EBF0F8",
                      "linecolor": "#EBF0F8",
                      "ticks": "",
                      "title": {
                        "standoff": 15
                      },
                      "zerolinecolor": "#EBF0F8",
                      "zerolinewidth": 2
                    },
                    "yaxis": {
                      "automargin": true,
                      "gridcolor": "#EBF0F8",
                      "linecolor": "#EBF0F8",
                      "ticks": "",
                      "title": {
                        "standoff": 15
                      },
                      "zerolinecolor": "#EBF0F8",
                      "zerolinewidth": 2
                    }
                  }
                },
                "title": {
                  "font": {
                    "size": 20
                  },
                  "text": "Coordination Quality Analysis by Scenario"
                },
                "width": 1200,
                "xaxis": {
                  "anchor": "y",
                  "categoryarray": [
                    "scenario_1",
                    "scenario_2",
                    "scenario_3",
                    "scenario_4",
                    "scenario_5",
                    "scenario_6",
                    "scenario_7",
                    "scenario_8",
                    "scenario_9",
                    "scenario_10",
                    "scenario_11",
                    "scenario_12",
                    "scenario_13",
                    "scenario_14",
                    "scenario_15",
                    "scenario_16",
                    "scenario_17",
                    "scenario_18",
                    "scenario_19",
                    "scenario_20",
                    "scenario_21",
                    "scenario_22",
                    "scenario_23",
                    "scenario_24",
                    "scenario_25",
                    "scenario_26",
                    "scenario_27",
                    "scenario_28",
                    "scenario_29",
                    "scenario_30",
                    "scenario_31",
                    "scenario_32",
                    "scenario_33",
                    "scenario_34",
                    "scenario_35",
                    "scenario_36",
                    "scenario_37",
                    "scenario_38",
                    "scenario_39",
                    "scenario_40",
                    "scenario_41",
                    "scenario_42",
                    "scenario_43",
                    "scenario_44",
                    "scenario_45",
                    "scenario_46",
                    "scenario_47",
                    "scenario_48",
                    "scenario_49",
                    "scenario_50",
                    "scenario_51",
                    "scenario_52",
                    "scenario_53",
                    "scenario_54",
                    "scenario_55",
                    "scenario_56",
                    "scenario_57",
                    "scenario_58",
                    "scenario_59",
                    "scenario_60",
                    "scenario_61",
                    "scenario_62",
                    "scenario_63",
                    "scenario_64",
                    "scenario_65",
                    "scenario_66",
                    "scenario_67",
                    "scenario_68"
                  ],
                  "categoryorder": "array",
                  "domain": [
                    0,
                    1
                  ],
                  "title": {
                    "text": "<b>Operational Scenario</b>"
                  }
                },
                "yaxis": {
                  "anchor": "x",
                  "domain": [
                    0,
                    1
                  ],
                  "range": [
                    0,
                    105
                  ],
                  "title": {
                    "text": "<b>Coordination (%)</b>"
                  }
                }
              }
            }
          },
          "metadata": {},
          "output_type": "display_data"
        },
        {
          "name": "stdout",
          "output_type": "stream",
          "text": [
            "   • Showing: tmt_severity\n"
          ]
        },
        {
          "data": {
            "application/vnd.plotly.v1+json": {
              "config": {
                "plotlyServerURL": "https://plot.ly"
              },
              "data": [
                {
                  "customdata": {
                    "bdata": "AAAAAAAAKEAAAAAAAAAoQAAAAAAAAFZAAAAAAAAAKEAAAAAAAAAoQAAAAAAAAFZAAAAAAAAAKkAAAAAAAAAqQAAAAAAAwFVAAAAAAAAAKkAAAAAAAAAqQAAAAAAAwFVAAQAAAAAALEAAAAAAAAAsQAAAAAAAgFVAAAAAAAAAKEAAAAAAAAAoQAAAAAAAAFZAAQAAAAAALEAAAAAAAAAsQAAAAAAAgFVAAAAAAAAAKEAAAAAAAAAoQAAAAAAAAFZAAAAAAAAAJkAAAAAAAAAmQAAAAAAAQFZAAAAAAAAAKkAAAAAAAAAqQAAAAAAAwFVAAAAAAAAAKkAAAAAAAAAqQAAAAAAAwFVAAAAAAAAAJEAAAAAAAAAkQAAAAAAAgFZAAAAAAAAAKkAAAAAAAAAqQAAAAAAAwFVAAAAAAAAAJkAAAAAAAAAmQAAAAAAAQFZAAAAAAAAAKEAAAAAAAAAoQAAAAAAAAFZAAAAAAAAAKEAAAAAAAAAoQAAAAAAAAFZAAAAAAAAAJEAAAAAAAAAkQAAAAAAAgFZAAAAAAAAALkAAAAAAAAAuQAAAAAAAQFVAAAAAAAAAKEAAAAAAAAAoQAAAAAAAAFZAAQAAAAAAHEAAAAAAAAAcQAAAAAAAQFdAAAAAAAAAKkAAAAAAAAAqQAAAAAAAwFVAAAAAAAAAKEAAAAAAAAAoQAAAAAAAAFZAAAAAAAAALkAAAAAAAAAuQAAAAAAAQFVAAAAAAAAAIkAAAAAAAAAiQAAAAAAAwFZAAAAAAAAAJkAAAAAAAAAmQAAAAAAAQFZAAAAAAAAAJkAAAAAAAAAmQAAAAAAAQFZAAAAAAAAAKEAAAAAAAAAoQAAAAAAAAFZAAAAAAAAAJkAAAAAAAAAmQAAAAAAAQFZAAAAAAAAAJkAAAAAAAAAmQAAAAAAAQFZAAAAAAAAAJEAAAAAAAAAkQAAAAAAAgFZAAAAAAAAAJEAAAAAAAAAkQAAAAAAAgFZAAAAAAAAAIEAAAAAAAAAgQAAAAAAAAFdAAAAAAAAAKkAAAAAAAAAqQAAAAAAAwFVAAAAAAAAAKkAAAAAAAAAqQAAAAAAAwFVAAQAAAAAALEAAAAAAAAAsQAAAAAAAgFVAAAAAAAAAMEAAAAAAAAAwQAAAAAAAAFVAAAAAAAAAKkAAAAAAAAAqQAAAAAAAwFVAAAAAAAAAJEAAAAAAAAAkQAAAAAAAgFZAAAAAAAAAJEAAAAAAAAAkQAAAAAAAgFZAAAAAAAAAJkAAAAAAAAAmQAAAAAAAQFZAAAAAAAAAIkAAAAAAAAAiQAAAAAAAwFZAAQAAAAAALEAAAAAAAAAsQAAAAAAAgFVAAAAAAAAAKkAAAAAAAAAqQAAAAAAAwFVAAAAAAAAAIkAAAAAAAAAiQAAAAAAAwFZAAAAAAAAAKkAAAAAAAAAqQAAAAAAAwFVAAAAAAAAALkAAAAAAAAAuQAAAAAAAQFVAAAAAAAAAKEAAAAAAAAAoQAAAAAAAAFZAAAAAAAAAKEAAAAAAAAAoQAAAAAAAAFZAAAAAAAAAKEAAAAAAAAAoQAAAAAAAAFZAAAAAAAAAKEAAAAAAAAAoQAAAAAAAAFZAAAAAAAAAKEAAAAAAAAAoQAAAAAAAAFZAAAAAAAAAJkAAAAAAAAAmQAAAAAAAQFZAAQAAAAAALEAAAAAAAAAsQAAAAAAAgFVAAAAAAAAALkAAAAAAAAAuQAAAAAAAQFVAAAAAAAAAJkAAAAAAAAAmQAAAAAAAQFZAAAAAAAAALkAAAAAAAAAuQAAAAAAAQFVAAQAAAAAALEAAAAAAAAAsQAAAAAAAgFVAAQAAAAAALEAAAAAAAAAsQAAAAAAAgFVAAAAAAAAAMEAAAAAAAAAwQAAAAAAAAFVA",
                    "dtype": "f8",
                    "shape": "59, 3"
                  },
                  "hovertemplate": "Severidad=HIGH<br>Operational Scenario=%{x}<br>TMT Acumulado (s)=%{text}<br>Porcentaje Coordinación=%{customdata[0]}<br>Pares Coordinados=%{customdata[1]}<br>Pares Descoordinados=%{customdata[2]}<extra></extra>",
                  "legendgroup": "HIGH",
                  "marker": {
                    "color": "#DC143C",
                    "pattern": {
                      "shape": ""
                    }
                  },
                  "name": "HIGH",
                  "orientation": "v",
                  "showlegend": true,
                  "text": {
                    "bdata": "EfJBz2a1L8Cfq63YX/YywP2p8dJN0jHAwXSTGAR2LsBD2PD0SskxwACze/KwADPAQhzr4jY6M8CPdXEbDdAxwJBc/kP6HTLA3gIJih9zMsD2udqK/cUxwP3t68A5UzLAHsnlP6QPMsDrwDkjSjsywLMubqMB/C/ACtejcD3KL8CM22gAb2EvwOj7qfHSLS/Aad5xio5kL8DNoUW2850vwI25awn5wC/AcvkP6bevL8CHFtnO93MvwOM2GsBbYC/Ae1ioNc27L8AhufyH9JsvwKVFtvP9FC/AuHSTGARWL8AZldQJaCIvwDTmriXkYy/Ans2qz9X2M8Bb9bnain0zwJ+AJsKG9zHA2KNwPQrXMcCK9NvXgcMywM/VVuwvuzHAhg1Pr5SFMcCiI7n8h6QxwNFE2PD0+jPAxbEubqPBMcDVvOMUHckxwBRhw9MrlTHAhQ1Pr5SlMcCkkjoBTQQvwFmfq63Yvy7A5j+k374uLsBF2PD0SvktwLknDwu1hi7Ao7Q3+MKELsDfcYqO5FIuwF31udqKHS7A7VpCPujZLsAqfoy5a6kuwOC1hHzQ8y7AlbuWkA+6LsBs8IXJVKEtwIaFWtO84y3AsZ3vp8bLLcAx/yH99hUuwA==",
                    "dtype": "f8"
                  },
                  "textfont": {
                    "size": 10
                  },
                  "textposition": "outside",
                  "texttemplate": "%{text:.3f}",
                  "type": "bar",
                  "x": [
                    "scenario_1",
                    "scenario_2",
                    "scenario_3",
                    "scenario_4",
                    "scenario_7",
                    "scenario_8",
                    "scenario_10",
                    "scenario_11",
                    "scenario_12",
                    "scenario_13",
                    "scenario_17",
                    "scenario_18",
                    "scenario_19",
                    "scenario_20",
                    "scenario_21",
                    "scenario_22",
                    "scenario_23",
                    "scenario_24",
                    "scenario_25",
                    "scenario_26",
                    "scenario_27",
                    "scenario_28",
                    "scenario_29",
                    "scenario_30",
                    "scenario_31",
                    "scenario_32",
                    "scenario_33",
                    "scenario_34",
                    "scenario_35",
                    "scenario_36",
                    "scenario_37",
                    "scenario_38",
                    "scenario_39",
                    "scenario_40",
                    "scenario_41",
                    "scenario_42",
                    "scenario_43",
                    "scenario_44",
                    "scenario_48",
                    "scenario_49",
                    "scenario_50",
                    "scenario_51",
                    "scenario_52",
                    "scenario_53",
                    "scenario_54",
                    "scenario_55",
                    "scenario_56",
                    "scenario_57",
                    "scenario_58",
                    "scenario_59",
                    "scenario_60",
                    "scenario_61",
                    "scenario_62",
                    "scenario_63",
                    "scenario_64",
                    "scenario_65",
                    "scenario_66",
                    "scenario_67",
                    "scenario_68"
                  ],
                  "xaxis": "x",
                  "y": {
                    "bdata": "EfJBz2a1L8Cfq63YX/YywP2p8dJN0jHAwXSTGAR2LsBD2PD0SskxwACze/KwADPAQhzr4jY6M8CPdXEbDdAxwJBc/kP6HTLA3gIJih9zMsD2udqK/cUxwP3t68A5UzLAHsnlP6QPMsDrwDkjSjsywLMubqMB/C/ACtejcD3KL8CM22gAb2EvwOj7qfHSLS/Aad5xio5kL8DNoUW2850vwI25awn5wC/AcvkP6bevL8CHFtnO93MvwOM2GsBbYC/Ae1ioNc27L8AhufyH9JsvwKVFtvP9FC/AuHSTGARWL8AZldQJaCIvwDTmriXkYy/Ans2qz9X2M8Bb9bnain0zwJ+AJsKG9zHA2KNwPQrXMcCK9NvXgcMywM/VVuwvuzHAhg1Pr5SFMcCiI7n8h6QxwNFE2PD0+jPAxbEubqPBMcDVvOMUHckxwBRhw9MrlTHAhQ1Pr5SlMcCkkjoBTQQvwFmfq63Yvy7A5j+k374uLsBF2PD0SvktwLknDwu1hi7Ao7Q3+MKELsDfcYqO5FIuwF31udqKHS7A7VpCPujZLsAqfoy5a6kuwOC1hHzQ8y7AlbuWkA+6LsBs8IXJVKEtwIaFWtO84y3AsZ3vp8bLLcAx/yH99hUuwA==",
                    "dtype": "f8"
                  },
                  "yaxis": "y"
                },
                {
                  "customdata": {
                    "bdata": "AAAAAAAAKkAAAAAAAAAqQAAAAAAAwFVAAAAAAAAAKkAAAAAAAAAqQAAAAAAAwFVAAQAAAAAALEAAAAAAAAAsQAAAAAAAgFVAAQAAAAAALEAAAAAAAAAsQAAAAAAAgFVAAQAAAAAALEAAAAAAAAAsQAAAAAAAgFVAAAAAAAAAJkAAAAAAAAAmQAAAAAAAQFZAAAAAAAAAKkAAAAAAAAAqQAAAAAAAwFVAAAAAAAAAKEAAAAAAAAAoQAAAAAAAAFZAAAAAAAAAKEAAAAAAAAAoQAAAAAAAAFZA",
                    "dtype": "f8",
                    "shape": "9, 3"
                  },
                  "hovertemplate": "Severidad=CRITICAL<br>Operational Scenario=%{x}<br>TMT Acumulado (s)=%{text}<br>Porcentaje Coordinación=%{customdata[0]}<br>Pares Coordinados=%{customdata[1]}<br>Pares Descoordinados=%{customdata[2]}<extra></extra>",
                  "legendgroup": "CRITICAL",
                  "marker": {
                    "color": "#FF4500",
                    "pattern": {
                      "shape": ""
                    }
                  },
                  "name": "CRITICAL",
                  "orientation": "v",
                  "showlegend": true,
                  "text": {
                    "bdata": "xfUoXI/yOMBFaW/whfk0wKH4MeauJTTArhxaZDvXRsAWak3zjhNAwIQNT6+UpTfAeDarPlfbNsA/6Nms+gw1wF3cRgN4yzTA",
                    "dtype": "f8"
                  },
                  "textfont": {
                    "size": 10
                  },
                  "textposition": "outside",
                  "texttemplate": "%{text:.3f}",
                  "type": "bar",
                  "x": [
                    "scenario_5",
                    "scenario_6",
                    "scenario_9",
                    "scenario_14",
                    "scenario_15",
                    "scenario_16",
                    "scenario_45",
                    "scenario_46",
                    "scenario_47"
                  ],
                  "xaxis": "x",
                  "y": {
                    "bdata": "xfUoXI/yOMBFaW/whfk0wKH4MeauJTTArhxaZDvXRsAWak3zjhNAwIQNT6+UpTfAeDarPlfbNsA/6Nms+gw1wF3cRgN4yzTA",
                    "dtype": "f8"
                  },
                  "yaxis": "y"
                }
              ],
              "layout": {
                "barmode": "relative",
                "height": 600,
                "legend": {
                  "title": {
                    "text": "Severidad"
                  },
                  "tracegroupgap": 0
                },
                "margin": {
                  "b": 80,
                  "l": 80,
                  "r": 50,
                  "t": 100
                },
                "template": {
                  "data": {
                    "bar": [
                      {
                        "error_x": {
                          "color": "#2a3f5f"
                        },
                        "error_y": {
                          "color": "#2a3f5f"
                        },
                        "marker": {
                          "line": {
                            "color": "white",
                            "width": 0.5
                          },
                          "pattern": {
                            "fillmode": "overlay",
                            "size": 10,
                            "solidity": 0.2
                          }
                        },
                        "type": "bar"
                      }
                    ],
                    "barpolar": [
                      {
                        "marker": {
                          "line": {
                            "color": "white",
                            "width": 0.5
                          },
                          "pattern": {
                            "fillmode": "overlay",
                            "size": 10,
                            "solidity": 0.2
                          }
                        },
                        "type": "barpolar"
                      }
                    ],
                    "carpet": [
                      {
                        "aaxis": {
                          "endlinecolor": "#2a3f5f",
                          "gridcolor": "#C8D4E3",
                          "linecolor": "#C8D4E3",
                          "minorgridcolor": "#C8D4E3",
                          "startlinecolor": "#2a3f5f"
                        },
                        "baxis": {
                          "endlinecolor": "#2a3f5f",
                          "gridcolor": "#C8D4E3",
                          "linecolor": "#C8D4E3",
                          "minorgridcolor": "#C8D4E3",
                          "startlinecolor": "#2a3f5f"
                        },
                        "type": "carpet"
                      }
                    ],
                    "choropleth": [
                      {
                        "colorbar": {
                          "outlinewidth": 0,
                          "ticks": ""
                        },
                        "type": "choropleth"
                      }
                    ],
                    "contour": [
                      {
                        "colorbar": {
                          "outlinewidth": 0,
                          "ticks": ""
                        },
                        "colorscale": [
                          [
                            0,
                            "#0d0887"
                          ],
                          [
                            0.1111111111111111,
                            "#46039f"
                          ],
                          [
                            0.2222222222222222,
                            "#7201a8"
                          ],
                          [
                            0.3333333333333333,
                            "#9c179e"
                          ],
                          [
                            0.4444444444444444,
                            "#bd3786"
                          ],
                          [
                            0.5555555555555556,
                            "#d8576b"
                          ],
                          [
                            0.6666666666666666,
                            "#ed7953"
                          ],
                          [
                            0.7777777777777778,
                            "#fb9f3a"
                          ],
                          [
                            0.8888888888888888,
                            "#fdca26"
                          ],
                          [
                            1,
                            "#f0f921"
                          ]
                        ],
                        "type": "contour"
                      }
                    ],
                    "contourcarpet": [
                      {
                        "colorbar": {
                          "outlinewidth": 0,
                          "ticks": ""
                        },
                        "type": "contourcarpet"
                      }
                    ],
                    "heatmap": [
                      {
                        "colorbar": {
                          "outlinewidth": 0,
                          "ticks": ""
                        },
                        "colorscale": [
                          [
                            0,
                            "#0d0887"
                          ],
                          [
                            0.1111111111111111,
                            "#46039f"
                          ],
                          [
                            0.2222222222222222,
                            "#7201a8"
                          ],
                          [
                            0.3333333333333333,
                            "#9c179e"
                          ],
                          [
                            0.4444444444444444,
                            "#bd3786"
                          ],
                          [
                            0.5555555555555556,
                            "#d8576b"
                          ],
                          [
                            0.6666666666666666,
                            "#ed7953"
                          ],
                          [
                            0.7777777777777778,
                            "#fb9f3a"
                          ],
                          [
                            0.8888888888888888,
                            "#fdca26"
                          ],
                          [
                            1,
                            "#f0f921"
                          ]
                        ],
                        "type": "heatmap"
                      }
                    ],
                    "histogram": [
                      {
                        "marker": {
                          "pattern": {
                            "fillmode": "overlay",
                            "size": 10,
                            "solidity": 0.2
                          }
                        },
                        "type": "histogram"
                      }
                    ],
                    "histogram2d": [
                      {
                        "colorbar": {
                          "outlinewidth": 0,
                          "ticks": ""
                        },
                        "colorscale": [
                          [
                            0,
                            "#0d0887"
                          ],
                          [
                            0.1111111111111111,
                            "#46039f"
                          ],
                          [
                            0.2222222222222222,
                            "#7201a8"
                          ],
                          [
                            0.3333333333333333,
                            "#9c179e"
                          ],
                          [
                            0.4444444444444444,
                            "#bd3786"
                          ],
                          [
                            0.5555555555555556,
                            "#d8576b"
                          ],
                          [
                            0.6666666666666666,
                            "#ed7953"
                          ],
                          [
                            0.7777777777777778,
                            "#fb9f3a"
                          ],
                          [
                            0.8888888888888888,
                            "#fdca26"
                          ],
                          [
                            1,
                            "#f0f921"
                          ]
                        ],
                        "type": "histogram2d"
                      }
                    ],
                    "histogram2dcontour": [
                      {
                        "colorbar": {
                          "outlinewidth": 0,
                          "ticks": ""
                        },
                        "colorscale": [
                          [
                            0,
                            "#0d0887"
                          ],
                          [
                            0.1111111111111111,
                            "#46039f"
                          ],
                          [
                            0.2222222222222222,
                            "#7201a8"
                          ],
                          [
                            0.3333333333333333,
                            "#9c179e"
                          ],
                          [
                            0.4444444444444444,
                            "#bd3786"
                          ],
                          [
                            0.5555555555555556,
                            "#d8576b"
                          ],
                          [
                            0.6666666666666666,
                            "#ed7953"
                          ],
                          [
                            0.7777777777777778,
                            "#fb9f3a"
                          ],
                          [
                            0.8888888888888888,
                            "#fdca26"
                          ],
                          [
                            1,
                            "#f0f921"
                          ]
                        ],
                        "type": "histogram2dcontour"
                      }
                    ],
                    "mesh3d": [
                      {
                        "colorbar": {
                          "outlinewidth": 0,
                          "ticks": ""
                        },
                        "type": "mesh3d"
                      }
                    ],
                    "parcoords": [
                      {
                        "line": {
                          "colorbar": {
                            "outlinewidth": 0,
                            "ticks": ""
                          }
                        },
                        "type": "parcoords"
                      }
                    ],
                    "pie": [
                      {
                        "automargin": true,
                        "type": "pie"
                      }
                    ],
                    "scatter": [
                      {
                        "fillpattern": {
                          "fillmode": "overlay",
                          "size": 10,
                          "solidity": 0.2
                        },
                        "type": "scatter"
                      }
                    ],
                    "scatter3d": [
                      {
                        "line": {
                          "colorbar": {
                            "outlinewidth": 0,
                            "ticks": ""
                          }
                        },
                        "marker": {
                          "colorbar": {
                            "outlinewidth": 0,
                            "ticks": ""
                          }
                        },
                        "type": "scatter3d"
                      }
                    ],
                    "scattercarpet": [
                      {
                        "marker": {
                          "colorbar": {
                            "outlinewidth": 0,
                            "ticks": ""
                          }
                        },
                        "type": "scattercarpet"
                      }
                    ],
                    "scattergeo": [
                      {
                        "marker": {
                          "colorbar": {
                            "outlinewidth": 0,
                            "ticks": ""
                          }
                        },
                        "type": "scattergeo"
                      }
                    ],
                    "scattergl": [
                      {
                        "marker": {
                          "colorbar": {
                            "outlinewidth": 0,
                            "ticks": ""
                          }
                        },
                        "type": "scattergl"
                      }
                    ],
                    "scattermap": [
                      {
                        "marker": {
                          "colorbar": {
                            "outlinewidth": 0,
                            "ticks": ""
                          }
                        },
                        "type": "scattermap"
                      }
                    ],
                    "scattermapbox": [
                      {
                        "marker": {
                          "colorbar": {
                            "outlinewidth": 0,
                            "ticks": ""
                          }
                        },
                        "type": "scattermapbox"
                      }
                    ],
                    "scatterpolar": [
                      {
                        "marker": {
                          "colorbar": {
                            "outlinewidth": 0,
                            "ticks": ""
                          }
                        },
                        "type": "scatterpolar"
                      }
                    ],
                    "scatterpolargl": [
                      {
                        "marker": {
                          "colorbar": {
                            "outlinewidth": 0,
                            "ticks": ""
                          }
                        },
                        "type": "scatterpolargl"
                      }
                    ],
                    "scatterternary": [
                      {
                        "marker": {
                          "colorbar": {
                            "outlinewidth": 0,
                            "ticks": ""
                          }
                        },
                        "type": "scatterternary"
                      }
                    ],
                    "surface": [
                      {
                        "colorbar": {
                          "outlinewidth": 0,
                          "ticks": ""
                        },
                        "colorscale": [
                          [
                            0,
                            "#0d0887"
                          ],
                          [
                            0.1111111111111111,
                            "#46039f"
                          ],
                          [
                            0.2222222222222222,
                            "#7201a8"
                          ],
                          [
                            0.3333333333333333,
                            "#9c179e"
                          ],
                          [
                            0.4444444444444444,
                            "#bd3786"
                          ],
                          [
                            0.5555555555555556,
                            "#d8576b"
                          ],
                          [
                            0.6666666666666666,
                            "#ed7953"
                          ],
                          [
                            0.7777777777777778,
                            "#fb9f3a"
                          ],
                          [
                            0.8888888888888888,
                            "#fdca26"
                          ],
                          [
                            1,
                            "#f0f921"
                          ]
                        ],
                        "type": "surface"
                      }
                    ],
                    "table": [
                      {
                        "cells": {
                          "fill": {
                            "color": "#EBF0F8"
                          },
                          "line": {
                            "color": "white"
                          }
                        },
                        "header": {
                          "fill": {
                            "color": "#C8D4E3"
                          },
                          "line": {
                            "color": "white"
                          }
                        },
                        "type": "table"
                      }
                    ]
                  },
                  "layout": {
                    "annotationdefaults": {
                      "arrowcolor": "#2a3f5f",
                      "arrowhead": 0,
                      "arrowwidth": 1
                    },
                    "autotypenumbers": "strict",
                    "coloraxis": {
                      "colorbar": {
                        "outlinewidth": 0,
                        "ticks": ""
                      }
                    },
                    "colorscale": {
                      "diverging": [
                        [
                          0,
                          "#8e0152"
                        ],
                        [
                          0.1,
                          "#c51b7d"
                        ],
                        [
                          0.2,
                          "#de77ae"
                        ],
                        [
                          0.3,
                          "#f1b6da"
                        ],
                        [
                          0.4,
                          "#fde0ef"
                        ],
                        [
                          0.5,
                          "#f7f7f7"
                        ],
                        [
                          0.6,
                          "#e6f5d0"
                        ],
                        [
                          0.7,
                          "#b8e186"
                        ],
                        [
                          0.8,
                          "#7fbc41"
                        ],
                        [
                          0.9,
                          "#4d9221"
                        ],
                        [
                          1,
                          "#276419"
                        ]
                      ],
                      "sequential": [
                        [
                          0,
                          "#0d0887"
                        ],
                        [
                          0.1111111111111111,
                          "#46039f"
                        ],
                        [
                          0.2222222222222222,
                          "#7201a8"
                        ],
                        [
                          0.3333333333333333,
                          "#9c179e"
                        ],
                        [
                          0.4444444444444444,
                          "#bd3786"
                        ],
                        [
                          0.5555555555555556,
                          "#d8576b"
                        ],
                        [
                          0.6666666666666666,
                          "#ed7953"
                        ],
                        [
                          0.7777777777777778,
                          "#fb9f3a"
                        ],
                        [
                          0.8888888888888888,
                          "#fdca26"
                        ],
                        [
                          1,
                          "#f0f921"
                        ]
                      ],
                      "sequentialminus": [
                        [
                          0,
                          "#0d0887"
                        ],
                        [
                          0.1111111111111111,
                          "#46039f"
                        ],
                        [
                          0.2222222222222222,
                          "#7201a8"
                        ],
                        [
                          0.3333333333333333,
                          "#9c179e"
                        ],
                        [
                          0.4444444444444444,
                          "#bd3786"
                        ],
                        [
                          0.5555555555555556,
                          "#d8576b"
                        ],
                        [
                          0.6666666666666666,
                          "#ed7953"
                        ],
                        [
                          0.7777777777777778,
                          "#fb9f3a"
                        ],
                        [
                          0.8888888888888888,
                          "#fdca26"
                        ],
                        [
                          1,
                          "#f0f921"
                        ]
                      ]
                    },
                    "colorway": [
                      "#636efa",
                      "#EF553B",
                      "#00cc96",
                      "#ab63fa",
                      "#FFA15A",
                      "#19d3f3",
                      "#FF6692",
                      "#B6E880",
                      "#FF97FF",
                      "#FECB52"
                    ],
                    "font": {
                      "color": "#2a3f5f"
                    },
                    "geo": {
                      "bgcolor": "white",
                      "lakecolor": "white",
                      "landcolor": "white",
                      "showlakes": true,
                      "showland": true,
                      "subunitcolor": "#C8D4E3"
                    },
                    "hoverlabel": {
                      "align": "left"
                    },
                    "hovermode": "closest",
                    "mapbox": {
                      "style": "light"
                    },
                    "paper_bgcolor": "white",
                    "plot_bgcolor": "white",
                    "polar": {
                      "angularaxis": {
                        "gridcolor": "#EBF0F8",
                        "linecolor": "#EBF0F8",
                        "ticks": ""
                      },
                      "bgcolor": "white",
                      "radialaxis": {
                        "gridcolor": "#EBF0F8",
                        "linecolor": "#EBF0F8",
                        "ticks": ""
                      }
                    },
                    "scene": {
                      "xaxis": {
                        "backgroundcolor": "white",
                        "gridcolor": "#DFE8F3",
                        "gridwidth": 2,
                        "linecolor": "#EBF0F8",
                        "showbackground": true,
                        "ticks": "",
                        "zerolinecolor": "#EBF0F8"
                      },
                      "yaxis": {
                        "backgroundcolor": "white",
                        "gridcolor": "#DFE8F3",
                        "gridwidth": 2,
                        "linecolor": "#EBF0F8",
                        "showbackground": true,
                        "ticks": "",
                        "zerolinecolor": "#EBF0F8"
                      },
                      "zaxis": {
                        "backgroundcolor": "white",
                        "gridcolor": "#DFE8F3",
                        "gridwidth": 2,
                        "linecolor": "#EBF0F8",
                        "showbackground": true,
                        "ticks": "",
                        "zerolinecolor": "#EBF0F8"
                      }
                    },
                    "shapedefaults": {
                      "line": {
                        "color": "#2a3f5f"
                      }
                    },
                    "ternary": {
                      "aaxis": {
                        "gridcolor": "#DFE8F3",
                        "linecolor": "#A2B1C6",
                        "ticks": ""
                      },
                      "baxis": {
                        "gridcolor": "#DFE8F3",
                        "linecolor": "#A2B1C6",
                        "ticks": ""
                      },
                      "bgcolor": "white",
                      "caxis": {
                        "gridcolor": "#DFE8F3",
                        "linecolor": "#A2B1C6",
                        "ticks": ""
                      }
                    },
                    "title": {
                      "x": 0.05
                    },
                    "xaxis": {
                      "automargin": true,
                      "gridcolor": "#EBF0F8",
                      "linecolor": "#EBF0F8",
                      "ticks": "",
                      "title": {
                        "standoff": 15
                      },
                      "zerolinecolor": "#EBF0F8",
                      "zerolinewidth": 2
                    },
                    "yaxis": {
                      "automargin": true,
                      "gridcolor": "#EBF0F8",
                      "linecolor": "#EBF0F8",
                      "ticks": "",
                      "title": {
                        "standoff": 15
                      },
                      "zerolinecolor": "#EBF0F8",
                      "zerolinewidth": 2
                    }
                  }
                },
                "title": {
                  "font": {
                    "size": 20
                  },
                  "text": "Análisis de Severidad de TMT por Escenario"
                },
                "width": 1200,
                "xaxis": {
                  "anchor": "y",
                  "categoryarray": [
                    "scenario_1",
                    "scenario_2",
                    "scenario_3",
                    "scenario_4",
                    "scenario_5",
                    "scenario_6",
                    "scenario_7",
                    "scenario_8",
                    "scenario_9",
                    "scenario_10",
                    "scenario_11",
                    "scenario_12",
                    "scenario_13",
                    "scenario_14",
                    "scenario_15",
                    "scenario_16",
                    "scenario_17",
                    "scenario_18",
                    "scenario_19",
                    "scenario_20",
                    "scenario_21",
                    "scenario_22",
                    "scenario_23",
                    "scenario_24",
                    "scenario_25",
                    "scenario_26",
                    "scenario_27",
                    "scenario_28",
                    "scenario_29",
                    "scenario_30",
                    "scenario_31",
                    "scenario_32",
                    "scenario_33",
                    "scenario_34",
                    "scenario_35",
                    "scenario_36",
                    "scenario_37",
                    "scenario_38",
                    "scenario_39",
                    "scenario_40",
                    "scenario_41",
                    "scenario_42",
                    "scenario_43",
                    "scenario_44",
                    "scenario_45",
                    "scenario_46",
                    "scenario_47",
                    "scenario_48",
                    "scenario_49",
                    "scenario_50",
                    "scenario_51",
                    "scenario_52",
                    "scenario_53",
                    "scenario_54",
                    "scenario_55",
                    "scenario_56",
                    "scenario_57",
                    "scenario_58",
                    "scenario_59",
                    "scenario_60",
                    "scenario_61",
                    "scenario_62",
                    "scenario_63",
                    "scenario_64",
                    "scenario_65",
                    "scenario_66",
                    "scenario_67",
                    "scenario_68"
                  ],
                  "categoryorder": "array",
                  "domain": [
                    0,
                    1
                  ],
                  "title": {
                    "text": "<b>Operational Scenario</b>"
                  }
                },
                "yaxis": {
                  "anchor": "x",
                  "domain": [
                    0,
                    1
                  ],
                  "title": {
                    "text": "<b>TMT Acumulado (s)</b>"
                  }
                }
              }
            }
          },
          "metadata": {},
          "output_type": "display_data"
        },
        {
          "name": "stdout",
          "output_type": "stream",
          "text": [
            "   • Showing: metrics_dashboard\n"
          ]
        },
        {
          "data": {
            "application/vnd.plotly.v1+json": {
              "config": {
                "plotlyServerURL": "https://plot.ly"
              },
              "data": [
                {
                  "marker": {
                    "color": "#4169E1"
                  },
                  "name": "Coordinación",
                  "nbinsx": 15,
                  "type": "histogram",
                  "x": {
                    "bdata": "AAAAAAAAKEAAAAAAAAAoQAAAAAAAACpAAAAAAAAAKkAAAAAAAAAqQAAAAAAAACpAAQAAAAAALEAAAAAAAAAoQAEAAAAAACxAAQAAAAAALEAAAAAAAAAoQAAAAAAAACZAAAAAAAAAKkABAAAAAAAsQAEAAAAAACxAAAAAAAAAJkAAAAAAAAAqQAAAAAAAACRAAAAAAAAAKkAAAAAAAAAmQAAAAAAAAChAAAAAAAAAKEAAAAAAAAAkQAAAAAAAAC5AAAAAAAAAKEABAAAAAAAcQAAAAAAAACpAAAAAAAAAKEAAAAAAAAAuQAAAAAAAACJAAAAAAAAAJkAAAAAAAAAmQAAAAAAAAChAAAAAAAAAJkAAAAAAAAAmQAAAAAAAACRAAAAAAAAAJEAAAAAAAAAgQAAAAAAAACpAAAAAAAAAKkABAAAAAAAsQAAAAAAAADBAAAAAAAAAKkAAAAAAAAAkQAAAAAAAACpAAAAAAAAAKEAAAAAAAAAoQAAAAAAAACRAAAAAAAAAJkAAAAAAAAAiQAEAAAAAACxAAAAAAAAAKkAAAAAAAAAiQAAAAAAAACpAAAAAAAAALkAAAAAAAAAoQAAAAAAAAChAAAAAAAAAKEAAAAAAAAAoQAAAAAAAAChAAAAAAAAAJkABAAAAAAAsQAAAAAAAAC5AAAAAAAAAJkAAAAAAAAAuQAEAAAAAACxAAQAAAAAALEAAAAAAAAAwQA==",
                    "dtype": "f8"
                  },
                  "xaxis": "x",
                  "yaxis": "y"
                },
                {
                  "marker": {
                    "color": "#9370DB"
                  },
                  "name": "TMT",
                  "nbinsx": 15,
                  "type": "histogram",
                  "x": {
                    "bdata": "EfJBz2a1L8Cfq63YX/YywP2p8dJN0jHAwXSTGAR2LsDF9Shcj/I4wEVpb/CF+TTAQ9jw9ErJMcAAs3vysAAzwKH4MeauJTTAQhzr4jY6M8CPdXEbDdAxwJBc/kP6HTLA3gIJih9zMsCuHFpkO9dGwBZqTfOOE0DAhA1Pr5SlN8D2udqK/cUxwP3t68A5UzLAHsnlP6QPMsDrwDkjSjsywLMubqMB/C/ACtejcD3KL8CM22gAb2EvwOj7qfHSLS/Aad5xio5kL8DNoUW2850vwI25awn5wC/AcvkP6bevL8CHFtnO93MvwOM2GsBbYC/Ae1ioNc27L8AhufyH9JsvwKVFtvP9FC/AuHSTGARWL8AZldQJaCIvwDTmriXkYy/Ans2qz9X2M8Bb9bnain0zwJ+AJsKG9zHA2KNwPQrXMcCK9NvXgcMywM/VVuwvuzHAhg1Pr5SFMcCiI7n8h6QxwHg2qz5X2zbAP+jZrPoMNcBd3EYDeMs0wNFE2PD0+jPAxbEubqPBMcDVvOMUHckxwBRhw9MrlTHAhQ1Pr5SlMcCkkjoBTQQvwFmfq63Yvy7A5j+k374uLsBF2PD0SvktwLknDwu1hi7Ao7Q3+MKELsDfcYqO5FIuwF31udqKHS7A7VpCPujZLsAqfoy5a6kuwOC1hHzQ8y7AlbuWkA+6LsBs8IXJVKEtwIaFWtO84y3AsZ3vp8bLLcAx/yH99hUuwA==",
                    "dtype": "f8"
                  },
                  "xaxis": "x2",
                  "yaxis": "y2"
                },
                {
                  "marker": {
                    "color": {
                      "bdata": "AAAAAAAAKEAAAAAAAAAoQAAAAAAAACpAAAAAAAAAKkAAAAAAAAAqQAAAAAAAACpAAQAAAAAALEAAAAAAAAAoQAEAAAAAACxAAQAAAAAALEAAAAAAAAAoQAAAAAAAACZAAAAAAAAAKkABAAAAAAAsQAEAAAAAACxAAAAAAAAAJkAAAAAAAAAqQAAAAAAAACRAAAAAAAAAKkAAAAAAAAAmQAAAAAAAAChAAAAAAAAAKEAAAAAAAAAkQAAAAAAAAC5AAAAAAAAAKEABAAAAAAAcQAAAAAAAACpAAAAAAAAAKEAAAAAAAAAuQAAAAAAAACJAAAAAAAAAJkAAAAAAAAAmQAAAAAAAAChAAAAAAAAAJkAAAAAAAAAmQAAAAAAAACRAAAAAAAAAJEAAAAAAAAAgQAAAAAAAACpAAAAAAAAAKkABAAAAAAAsQAAAAAAAADBAAAAAAAAAKkAAAAAAAAAkQAAAAAAAACpAAAAAAAAAKEAAAAAAAAAoQAAAAAAAACRAAAAAAAAAJkAAAAAAAAAiQAEAAAAAACxAAAAAAAAAKkAAAAAAAAAiQAAAAAAAACpAAAAAAAAALkAAAAAAAAAoQAAAAAAAAChAAAAAAAAAKEAAAAAAAAAoQAAAAAAAAChAAAAAAAAAJkABAAAAAAAsQAAAAAAAAC5AAAAAAAAAJkAAAAAAAAAuQAEAAAAAACxAAQAAAAAALEAAAAAAAAAwQA==",
                      "dtype": "f8"
                    },
                    "colorscale": [
                      [
                        0,
                        "rgb(165,0,38)"
                      ],
                      [
                        0.1,
                        "rgb(215,48,39)"
                      ],
                      [
                        0.2,
                        "rgb(244,109,67)"
                      ],
                      [
                        0.3,
                        "rgb(253,174,97)"
                      ],
                      [
                        0.4,
                        "rgb(254,224,139)"
                      ],
                      [
                        0.5,
                        "rgb(255,255,191)"
                      ],
                      [
                        0.6,
                        "rgb(217,239,139)"
                      ],
                      [
                        0.7,
                        "rgb(166,217,106)"
                      ],
                      [
                        0.8,
                        "rgb(102,189,99)"
                      ],
                      [
                        0.9,
                        "rgb(26,152,80)"
                      ],
                      [
                        1,
                        "rgb(0,104,55)"
                      ]
                    ],
                    "showscale": true,
                    "size": 6
                  },
                  "mode": "markers",
                  "name": "Escenarios",
                  "text": [
                    "scenario_1",
                    "scenario_2",
                    "scenario_3",
                    "scenario_4",
                    "scenario_5",
                    "scenario_6",
                    "scenario_7",
                    "scenario_8",
                    "scenario_9",
                    "scenario_10",
                    "scenario_11",
                    "scenario_12",
                    "scenario_13",
                    "scenario_14",
                    "scenario_15",
                    "scenario_16",
                    "scenario_17",
                    "scenario_18",
                    "scenario_19",
                    "scenario_20",
                    "scenario_21",
                    "scenario_22",
                    "scenario_23",
                    "scenario_24",
                    "scenario_25",
                    "scenario_26",
                    "scenario_27",
                    "scenario_28",
                    "scenario_29",
                    "scenario_30",
                    "scenario_31",
                    "scenario_32",
                    "scenario_33",
                    "scenario_34",
                    "scenario_35",
                    "scenario_36",
                    "scenario_37",
                    "scenario_38",
                    "scenario_39",
                    "scenario_40",
                    "scenario_41",
                    "scenario_42",
                    "scenario_43",
                    "scenario_44",
                    "scenario_45",
                    "scenario_46",
                    "scenario_47",
                    "scenario_48",
                    "scenario_49",
                    "scenario_50",
                    "scenario_51",
                    "scenario_52",
                    "scenario_53",
                    "scenario_54",
                    "scenario_55",
                    "scenario_56",
                    "scenario_57",
                    "scenario_58",
                    "scenario_59",
                    "scenario_60",
                    "scenario_61",
                    "scenario_62",
                    "scenario_63",
                    "scenario_64",
                    "scenario_65",
                    "scenario_66",
                    "scenario_67",
                    "scenario_68"
                  ],
                  "type": "scatter",
                  "x": {
                    "bdata": "AAAAAAAAKEAAAAAAAAAoQAAAAAAAACpAAAAAAAAAKkAAAAAAAAAqQAAAAAAAACpAAQAAAAAALEAAAAAAAAAoQAEAAAAAACxAAQAAAAAALEAAAAAAAAAoQAAAAAAAACZAAAAAAAAAKkABAAAAAAAsQAEAAAAAACxAAAAAAAAAJkAAAAAAAAAqQAAAAAAAACRAAAAAAAAAKkAAAAAAAAAmQAAAAAAAAChAAAAAAAAAKEAAAAAAAAAkQAAAAAAAAC5AAAAAAAAAKEABAAAAAAAcQAAAAAAAACpAAAAAAAAAKEAAAAAAAAAuQAAAAAAAACJAAAAAAAAAJkAAAAAAAAAmQAAAAAAAAChAAAAAAAAAJkAAAAAAAAAmQAAAAAAAACRAAAAAAAAAJEAAAAAAAAAgQAAAAAAAACpAAAAAAAAAKkABAAAAAAAsQAAAAAAAADBAAAAAAAAAKkAAAAAAAAAkQAAAAAAAACpAAAAAAAAAKEAAAAAAAAAoQAAAAAAAACRAAAAAAAAAJkAAAAAAAAAiQAEAAAAAACxAAAAAAAAAKkAAAAAAAAAiQAAAAAAAACpAAAAAAAAALkAAAAAAAAAoQAAAAAAAAChAAAAAAAAAKEAAAAAAAAAoQAAAAAAAAChAAAAAAAAAJkABAAAAAAAsQAAAAAAAAC5AAAAAAAAAJkAAAAAAAAAuQAEAAAAAACxAAQAAAAAALEAAAAAAAAAwQA==",
                    "dtype": "f8"
                  },
                  "xaxis": "x3",
                  "y": {
                    "bdata": "EfJBz2a1L8Cfq63YX/YywP2p8dJN0jHAwXSTGAR2LsDF9Shcj/I4wEVpb/CF+TTAQ9jw9ErJMcAAs3vysAAzwKH4MeauJTTAQhzr4jY6M8CPdXEbDdAxwJBc/kP6HTLA3gIJih9zMsCuHFpkO9dGwBZqTfOOE0DAhA1Pr5SlN8D2udqK/cUxwP3t68A5UzLAHsnlP6QPMsDrwDkjSjsywLMubqMB/C/ACtejcD3KL8CM22gAb2EvwOj7qfHSLS/Aad5xio5kL8DNoUW2850vwI25awn5wC/AcvkP6bevL8CHFtnO93MvwOM2GsBbYC/Ae1ioNc27L8AhufyH9JsvwKVFtvP9FC/AuHSTGARWL8AZldQJaCIvwDTmriXkYy/Ans2qz9X2M8Bb9bnain0zwJ+AJsKG9zHA2KNwPQrXMcCK9NvXgcMywM/VVuwvuzHAhg1Pr5SFMcCiI7n8h6QxwHg2qz5X2zbAP+jZrPoMNcBd3EYDeMs0wNFE2PD0+jPAxbEubqPBMcDVvOMUHckxwBRhw9MrlTHAhQ1Pr5SlMcCkkjoBTQQvwFmfq63Yvy7A5j+k374uLsBF2PD0SvktwLknDwu1hi7Ao7Q3+MKELsDfcYqO5FIuwF31udqKHS7A7VpCPujZLsAqfoy5a6kuwOC1hHzQ8y7AlbuWkA+6LsBs8IXJVKEtwIaFWtO84y3AsZ3vp8bLLcAx/yH99hUuwA==",
                    "dtype": "f8"
                  },
                  "yaxis": "y3"
                },
                {
                  "marker": {
                    "color": [
                      "#32CD32"
                    ]
                  },
                  "name": "Calidad",
                  "type": "bar",
                  "x": [
                    "CRITICAL"
                  ],
                  "xaxis": "x4",
                  "y": {
                    "bdata": "RA==",
                    "dtype": "i1"
                  },
                  "yaxis": "y4"
                }
              ],
              "layout": {
                "annotations": [
                  {
                    "font": {
                      "size": 16
                    },
                    "showarrow": false,
                    "text": "Distribución de Coordinación",
                    "x": 0.225,
                    "xanchor": "center",
                    "xref": "paper",
                    "y": 1,
                    "yanchor": "bottom",
                    "yref": "paper"
                  },
                  {
                    "font": {
                      "size": 16
                    },
                    "showarrow": false,
                    "text": "Distribución de TMT",
                    "x": 0.775,
                    "xanchor": "center",
                    "xref": "paper",
                    "y": 1,
                    "yanchor": "bottom",
                    "yref": "paper"
                  },
                  {
                    "font": {
                      "size": 16
                    },
                    "showarrow": false,
                    "text": "Coordinación vs TMT",
                    "x": 0.225,
                    "xanchor": "center",
                    "xref": "paper",
                    "y": 0.375,
                    "yanchor": "bottom",
                    "yref": "paper"
                  },
                  {
                    "font": {
                      "size": 16
                    },
                    "showarrow": false,
                    "text": "Resumen de Calidad",
                    "x": 0.775,
                    "xanchor": "center",
                    "xref": "paper",
                    "y": 0.375,
                    "yanchor": "bottom",
                    "yref": "paper"
                  }
                ],
                "height": 800,
                "showlegend": false,
                "template": {
                  "data": {
                    "bar": [
                      {
                        "error_x": {
                          "color": "#2a3f5f"
                        },
                        "error_y": {
                          "color": "#2a3f5f"
                        },
                        "marker": {
                          "line": {
                            "color": "white",
                            "width": 0.5
                          },
                          "pattern": {
                            "fillmode": "overlay",
                            "size": 10,
                            "solidity": 0.2
                          }
                        },
                        "type": "bar"
                      }
                    ],
                    "barpolar": [
                      {
                        "marker": {
                          "line": {
                            "color": "white",
                            "width": 0.5
                          },
                          "pattern": {
                            "fillmode": "overlay",
                            "size": 10,
                            "solidity": 0.2
                          }
                        },
                        "type": "barpolar"
                      }
                    ],
                    "carpet": [
                      {
                        "aaxis": {
                          "endlinecolor": "#2a3f5f",
                          "gridcolor": "#C8D4E3",
                          "linecolor": "#C8D4E3",
                          "minorgridcolor": "#C8D4E3",
                          "startlinecolor": "#2a3f5f"
                        },
                        "baxis": {
                          "endlinecolor": "#2a3f5f",
                          "gridcolor": "#C8D4E3",
                          "linecolor": "#C8D4E3",
                          "minorgridcolor": "#C8D4E3",
                          "startlinecolor": "#2a3f5f"
                        },
                        "type": "carpet"
                      }
                    ],
                    "choropleth": [
                      {
                        "colorbar": {
                          "outlinewidth": 0,
                          "ticks": ""
                        },
                        "type": "choropleth"
                      }
                    ],
                    "contour": [
                      {
                        "colorbar": {
                          "outlinewidth": 0,
                          "ticks": ""
                        },
                        "colorscale": [
                          [
                            0,
                            "#0d0887"
                          ],
                          [
                            0.1111111111111111,
                            "#46039f"
                          ],
                          [
                            0.2222222222222222,
                            "#7201a8"
                          ],
                          [
                            0.3333333333333333,
                            "#9c179e"
                          ],
                          [
                            0.4444444444444444,
                            "#bd3786"
                          ],
                          [
                            0.5555555555555556,
                            "#d8576b"
                          ],
                          [
                            0.6666666666666666,
                            "#ed7953"
                          ],
                          [
                            0.7777777777777778,
                            "#fb9f3a"
                          ],
                          [
                            0.8888888888888888,
                            "#fdca26"
                          ],
                          [
                            1,
                            "#f0f921"
                          ]
                        ],
                        "type": "contour"
                      }
                    ],
                    "contourcarpet": [
                      {
                        "colorbar": {
                          "outlinewidth": 0,
                          "ticks": ""
                        },
                        "type": "contourcarpet"
                      }
                    ],
                    "heatmap": [
                      {
                        "colorbar": {
                          "outlinewidth": 0,
                          "ticks": ""
                        },
                        "colorscale": [
                          [
                            0,
                            "#0d0887"
                          ],
                          [
                            0.1111111111111111,
                            "#46039f"
                          ],
                          [
                            0.2222222222222222,
                            "#7201a8"
                          ],
                          [
                            0.3333333333333333,
                            "#9c179e"
                          ],
                          [
                            0.4444444444444444,
                            "#bd3786"
                          ],
                          [
                            0.5555555555555556,
                            "#d8576b"
                          ],
                          [
                            0.6666666666666666,
                            "#ed7953"
                          ],
                          [
                            0.7777777777777778,
                            "#fb9f3a"
                          ],
                          [
                            0.8888888888888888,
                            "#fdca26"
                          ],
                          [
                            1,
                            "#f0f921"
                          ]
                        ],
                        "type": "heatmap"
                      }
                    ],
                    "histogram": [
                      {
                        "marker": {
                          "pattern": {
                            "fillmode": "overlay",
                            "size": 10,
                            "solidity": 0.2
                          }
                        },
                        "type": "histogram"
                      }
                    ],
                    "histogram2d": [
                      {
                        "colorbar": {
                          "outlinewidth": 0,
                          "ticks": ""
                        },
                        "colorscale": [
                          [
                            0,
                            "#0d0887"
                          ],
                          [
                            0.1111111111111111,
                            "#46039f"
                          ],
                          [
                            0.2222222222222222,
                            "#7201a8"
                          ],
                          [
                            0.3333333333333333,
                            "#9c179e"
                          ],
                          [
                            0.4444444444444444,
                            "#bd3786"
                          ],
                          [
                            0.5555555555555556,
                            "#d8576b"
                          ],
                          [
                            0.6666666666666666,
                            "#ed7953"
                          ],
                          [
                            0.7777777777777778,
                            "#fb9f3a"
                          ],
                          [
                            0.8888888888888888,
                            "#fdca26"
                          ],
                          [
                            1,
                            "#f0f921"
                          ]
                        ],
                        "type": "histogram2d"
                      }
                    ],
                    "histogram2dcontour": [
                      {
                        "colorbar": {
                          "outlinewidth": 0,
                          "ticks": ""
                        },
                        "colorscale": [
                          [
                            0,
                            "#0d0887"
                          ],
                          [
                            0.1111111111111111,
                            "#46039f"
                          ],
                          [
                            0.2222222222222222,
                            "#7201a8"
                          ],
                          [
                            0.3333333333333333,
                            "#9c179e"
                          ],
                          [
                            0.4444444444444444,
                            "#bd3786"
                          ],
                          [
                            0.5555555555555556,
                            "#d8576b"
                          ],
                          [
                            0.6666666666666666,
                            "#ed7953"
                          ],
                          [
                            0.7777777777777778,
                            "#fb9f3a"
                          ],
                          [
                            0.8888888888888888,
                            "#fdca26"
                          ],
                          [
                            1,
                            "#f0f921"
                          ]
                        ],
                        "type": "histogram2dcontour"
                      }
                    ],
                    "mesh3d": [
                      {
                        "colorbar": {
                          "outlinewidth": 0,
                          "ticks": ""
                        },
                        "type": "mesh3d"
                      }
                    ],
                    "parcoords": [
                      {
                        "line": {
                          "colorbar": {
                            "outlinewidth": 0,
                            "ticks": ""
                          }
                        },
                        "type": "parcoords"
                      }
                    ],
                    "pie": [
                      {
                        "automargin": true,
                        "type": "pie"
                      }
                    ],
                    "scatter": [
                      {
                        "fillpattern": {
                          "fillmode": "overlay",
                          "size": 10,
                          "solidity": 0.2
                        },
                        "type": "scatter"
                      }
                    ],
                    "scatter3d": [
                      {
                        "line": {
                          "colorbar": {
                            "outlinewidth": 0,
                            "ticks": ""
                          }
                        },
                        "marker": {
                          "colorbar": {
                            "outlinewidth": 0,
                            "ticks": ""
                          }
                        },
                        "type": "scatter3d"
                      }
                    ],
                    "scattercarpet": [
                      {
                        "marker": {
                          "colorbar": {
                            "outlinewidth": 0,
                            "ticks": ""
                          }
                        },
                        "type": "scattercarpet"
                      }
                    ],
                    "scattergeo": [
                      {
                        "marker": {
                          "colorbar": {
                            "outlinewidth": 0,
                            "ticks": ""
                          }
                        },
                        "type": "scattergeo"
                      }
                    ],
                    "scattergl": [
                      {
                        "marker": {
                          "colorbar": {
                            "outlinewidth": 0,
                            "ticks": ""
                          }
                        },
                        "type": "scattergl"
                      }
                    ],
                    "scattermap": [
                      {
                        "marker": {
                          "colorbar": {
                            "outlinewidth": 0,
                            "ticks": ""
                          }
                        },
                        "type": "scattermap"
                      }
                    ],
                    "scattermapbox": [
                      {
                        "marker": {
                          "colorbar": {
                            "outlinewidth": 0,
                            "ticks": ""
                          }
                        },
                        "type": "scattermapbox"
                      }
                    ],
                    "scatterpolar": [
                      {
                        "marker": {
                          "colorbar": {
                            "outlinewidth": 0,
                            "ticks": ""
                          }
                        },
                        "type": "scatterpolar"
                      }
                    ],
                    "scatterpolargl": [
                      {
                        "marker": {
                          "colorbar": {
                            "outlinewidth": 0,
                            "ticks": ""
                          }
                        },
                        "type": "scatterpolargl"
                      }
                    ],
                    "scatterternary": [
                      {
                        "marker": {
                          "colorbar": {
                            "outlinewidth": 0,
                            "ticks": ""
                          }
                        },
                        "type": "scatterternary"
                      }
                    ],
                    "surface": [
                      {
                        "colorbar": {
                          "outlinewidth": 0,
                          "ticks": ""
                        },
                        "colorscale": [
                          [
                            0,
                            "#0d0887"
                          ],
                          [
                            0.1111111111111111,
                            "#46039f"
                          ],
                          [
                            0.2222222222222222,
                            "#7201a8"
                          ],
                          [
                            0.3333333333333333,
                            "#9c179e"
                          ],
                          [
                            0.4444444444444444,
                            "#bd3786"
                          ],
                          [
                            0.5555555555555556,
                            "#d8576b"
                          ],
                          [
                            0.6666666666666666,
                            "#ed7953"
                          ],
                          [
                            0.7777777777777778,
                            "#fb9f3a"
                          ],
                          [
                            0.8888888888888888,
                            "#fdca26"
                          ],
                          [
                            1,
                            "#f0f921"
                          ]
                        ],
                        "type": "surface"
                      }
                    ],
                    "table": [
                      {
                        "cells": {
                          "fill": {
                            "color": "#EBF0F8"
                          },
                          "line": {
                            "color": "white"
                          }
                        },
                        "header": {
                          "fill": {
                            "color": "#C8D4E3"
                          },
                          "line": {
                            "color": "white"
                          }
                        },
                        "type": "table"
                      }
                    ]
                  },
                  "layout": {
                    "annotationdefaults": {
                      "arrowcolor": "#2a3f5f",
                      "arrowhead": 0,
                      "arrowwidth": 1
                    },
                    "autotypenumbers": "strict",
                    "coloraxis": {
                      "colorbar": {
                        "outlinewidth": 0,
                        "ticks": ""
                      }
                    },
                    "colorscale": {
                      "diverging": [
                        [
                          0,
                          "#8e0152"
                        ],
                        [
                          0.1,
                          "#c51b7d"
                        ],
                        [
                          0.2,
                          "#de77ae"
                        ],
                        [
                          0.3,
                          "#f1b6da"
                        ],
                        [
                          0.4,
                          "#fde0ef"
                        ],
                        [
                          0.5,
                          "#f7f7f7"
                        ],
                        [
                          0.6,
                          "#e6f5d0"
                        ],
                        [
                          0.7,
                          "#b8e186"
                        ],
                        [
                          0.8,
                          "#7fbc41"
                        ],
                        [
                          0.9,
                          "#4d9221"
                        ],
                        [
                          1,
                          "#276419"
                        ]
                      ],
                      "sequential": [
                        [
                          0,
                          "#0d0887"
                        ],
                        [
                          0.1111111111111111,
                          "#46039f"
                        ],
                        [
                          0.2222222222222222,
                          "#7201a8"
                        ],
                        [
                          0.3333333333333333,
                          "#9c179e"
                        ],
                        [
                          0.4444444444444444,
                          "#bd3786"
                        ],
                        [
                          0.5555555555555556,
                          "#d8576b"
                        ],
                        [
                          0.6666666666666666,
                          "#ed7953"
                        ],
                        [
                          0.7777777777777778,
                          "#fb9f3a"
                        ],
                        [
                          0.8888888888888888,
                          "#fdca26"
                        ],
                        [
                          1,
                          "#f0f921"
                        ]
                      ],
                      "sequentialminus": [
                        [
                          0,
                          "#0d0887"
                        ],
                        [
                          0.1111111111111111,
                          "#46039f"
                        ],
                        [
                          0.2222222222222222,
                          "#7201a8"
                        ],
                        [
                          0.3333333333333333,
                          "#9c179e"
                        ],
                        [
                          0.4444444444444444,
                          "#bd3786"
                        ],
                        [
                          0.5555555555555556,
                          "#d8576b"
                        ],
                        [
                          0.6666666666666666,
                          "#ed7953"
                        ],
                        [
                          0.7777777777777778,
                          "#fb9f3a"
                        ],
                        [
                          0.8888888888888888,
                          "#fdca26"
                        ],
                        [
                          1,
                          "#f0f921"
                        ]
                      ]
                    },
                    "colorway": [
                      "#636efa",
                      "#EF553B",
                      "#00cc96",
                      "#ab63fa",
                      "#FFA15A",
                      "#19d3f3",
                      "#FF6692",
                      "#B6E880",
                      "#FF97FF",
                      "#FECB52"
                    ],
                    "font": {
                      "color": "#2a3f5f"
                    },
                    "geo": {
                      "bgcolor": "white",
                      "lakecolor": "white",
                      "landcolor": "white",
                      "showlakes": true,
                      "showland": true,
                      "subunitcolor": "#C8D4E3"
                    },
                    "hoverlabel": {
                      "align": "left"
                    },
                    "hovermode": "closest",
                    "mapbox": {
                      "style": "light"
                    },
                    "paper_bgcolor": "white",
                    "plot_bgcolor": "white",
                    "polar": {
                      "angularaxis": {
                        "gridcolor": "#EBF0F8",
                        "linecolor": "#EBF0F8",
                        "ticks": ""
                      },
                      "bgcolor": "white",
                      "radialaxis": {
                        "gridcolor": "#EBF0F8",
                        "linecolor": "#EBF0F8",
                        "ticks": ""
                      }
                    },
                    "scene": {
                      "xaxis": {
                        "backgroundcolor": "white",
                        "gridcolor": "#DFE8F3",
                        "gridwidth": 2,
                        "linecolor": "#EBF0F8",
                        "showbackground": true,
                        "ticks": "",
                        "zerolinecolor": "#EBF0F8"
                      },
                      "yaxis": {
                        "backgroundcolor": "white",
                        "gridcolor": "#DFE8F3",
                        "gridwidth": 2,
                        "linecolor": "#EBF0F8",
                        "showbackground": true,
                        "ticks": "",
                        "zerolinecolor": "#EBF0F8"
                      },
                      "zaxis": {
                        "backgroundcolor": "white",
                        "gridcolor": "#DFE8F3",
                        "gridwidth": 2,
                        "linecolor": "#EBF0F8",
                        "showbackground": true,
                        "ticks": "",
                        "zerolinecolor": "#EBF0F8"
                      }
                    },
                    "shapedefaults": {
                      "line": {
                        "color": "#2a3f5f"
                      }
                    },
                    "ternary": {
                      "aaxis": {
                        "gridcolor": "#DFE8F3",
                        "linecolor": "#A2B1C6",
                        "ticks": ""
                      },
                      "baxis": {
                        "gridcolor": "#DFE8F3",
                        "linecolor": "#A2B1C6",
                        "ticks": ""
                      },
                      "bgcolor": "white",
                      "caxis": {
                        "gridcolor": "#DFE8F3",
                        "linecolor": "#A2B1C6",
                        "ticks": ""
                      }
                    },
                    "title": {
                      "x": 0.05
                    },
                    "xaxis": {
                      "automargin": true,
                      "gridcolor": "#EBF0F8",
                      "linecolor": "#EBF0F8",
                      "ticks": "",
                      "title": {
                        "standoff": 15
                      },
                      "zerolinecolor": "#EBF0F8",
                      "zerolinewidth": 2
                    },
                    "yaxis": {
                      "automargin": true,
                      "gridcolor": "#EBF0F8",
                      "linecolor": "#EBF0F8",
                      "ticks": "",
                      "title": {
                        "standoff": 15
                      },
                      "zerolinecolor": "#EBF0F8",
                      "zerolinewidth": 2
                    }
                  }
                },
                "title": {
                  "font": {
                    "size": 20
                  },
                  "text": "Dashboard de Análisis de Coordinación de Relés"
                },
                "width": 1400,
                "xaxis": {
                  "anchor": "y",
                  "domain": [
                    0,
                    0.45
                  ]
                },
                "xaxis2": {
                  "anchor": "y2",
                  "domain": [
                    0.55,
                    1
                  ]
                },
                "xaxis3": {
                  "anchor": "y3",
                  "domain": [
                    0,
                    0.45
                  ]
                },
                "xaxis4": {
                  "anchor": "y4",
                  "domain": [
                    0.55,
                    1
                  ]
                },
                "yaxis": {
                  "anchor": "x",
                  "domain": [
                    0.625,
                    1
                  ]
                },
                "yaxis2": {
                  "anchor": "x2",
                  "domain": [
                    0.625,
                    1
                  ]
                },
                "yaxis3": {
                  "anchor": "x3",
                  "domain": [
                    0,
                    0.375
                  ]
                },
                "yaxis4": {
                  "anchor": "x4",
                  "domain": [
                    0,
                    0.375
                  ]
                }
              }
            }
          },
          "metadata": {},
          "output_type": "display_data"
        }
      ],
      "source": [
        "# %% Generar y Mostrar Visualizaciones Esenciales\n",
        "if df_results is not None and not df_results.empty:\n",
        "    print(\"🎨 Generando visualizaciones esenciales...\")\n",
        "    \n",
        "    # Generar solo las visualizaciones más importantes\n",
        "    figures = create_essential_visualizations(df_results, config)\n",
        "    \n",
        "    print(f\"✅ Se generaron {len(figures)} visualizaciones esenciales.\")\n",
        "    \n",
        "    # Mostrar todas las visualizaciones esenciales\n",
        "    print(\"\\n📊 Mostrando visualizaciones:\")\n",
        "    for name, fig in figures:\n",
        "        if fig is not None:\n",
        "            print(f\"   • Showing: {name}\")\n",
        "            fig.show()\n",
        "else:\n",
        "    print(\"❌ No hay datos para generar visualizaciones. Ejecuta primero la celda de análisis.\")\n"
      ]
    },
    {
      "cell_type": "code",
      "execution_count": 27,
      "metadata": {},
      "outputs": [
        {
          "name": "stdout",
          "output_type": "stream",
          "text": [
            "✅ Funciones de generación de reportes definidas.\n"
          ]
        }
      ],
      "source": [
        "# %% Funciones de Generación de Reportes Detallados\n",
        "def generate_comprehensive_report(df, metrics, figures, config):\n",
        "    \"\"\"\n",
        "    Genera un reporte completo y detallado del análisis de coordinación de relés.\n",
        "    Incluye análisis estadístico, visualizaciones y recomendaciones.\n",
        "    \"\"\"\n",
        "    if df is None or df.empty:\n",
        "        print(\"❌ No hay datos para generar el reporte.\")\n",
        "        return None\n",
        "    \n",
        "    timestamp = datetime.now().strftime(\"%Y%m%d_%H%M%S\")\n",
        "    \n",
        "    print(f\"\\n📝 Generando reporte detallado con timestamp: {timestamp}\")\n",
        "    \n",
        "    # Crear directorio de reportes si no existe\n",
        "    reports_dir = config.RESULTS_DIR / \"reports\"\n",
        "    reports_dir.mkdir(parents=True, exist_ok=True)\n",
        "    \n",
        "    # Nombre del notebook para identificación\n",
        "    notebook_name = \"tmt_analysis_all_scenarios\"\n",
        "    \n",
        "    # 1. Reporte de texto detallado\n",
        "    text_report_path = reports_dir / f\"{notebook_name}_detailed_report_{timestamp}.txt\"\n",
        "    generate_detailed_text_report(df, metrics, text_report_path, config)\n",
        "    \n",
        "    # 2. Reporte HTML interactivo - DISABLED\n",
        "    # html_report_path = reports_dir / f\"{notebook_name}_interactive_report_{timestamp}.html\"\n",
        "    # generate_html_report(df, metrics, figures, html_report_path, config)\n",
        "    \n",
        "    # 3. Reporte ejecutivo (resumen)\n",
        "    executive_report_path = reports_dir / f\"{notebook_name}_executive_summary_{timestamp}.txt\"\n",
        "    generate_executive_summary(df, metrics, executive_report_path, config)\n",
        "    \n",
        "    # 4. Guardar datos en CSV\n",
        "    csv_path = config.TABLES_DIR / f\"{notebook_name}_results_{timestamp}.csv\"\n",
        "    df.to_csv(csv_path, index=False, encoding='utf-8')\n",
        "    \n",
        "    # 5. Guardar métricas en JSON\n",
        "    metrics_path = config.TABLES_DIR / f\"{notebook_name}_metrics_{timestamp}.json\"\n",
        "    save_metrics_json(metrics, metrics_path)\n",
        "    \n",
        "    # 6. Guardar visualizaciones\n",
        "    save_visualizations(figures, config, timestamp)\n",
        "    \n",
        "    return {\n",
        "        'text_report': text_report_path,\n",
        "        'executive_summary': executive_report_path,\n",
        "        'csv_data': csv_path,\n",
        "        'metrics_json': metrics_path,\n",
        "        'timestamp': timestamp\n",
        "    }\n",
        "\n",
        "def generate_detailed_text_report(df, metrics, report_path, config):\n",
        "    \"\"\"Generates a detailed and professional text report\"\"\"\n",
        "    \n",
        "    with open(report_path, 'w', encoding='utf-8') as f:\n",
        "        # Report header\n",
        "        f.write(\"=\"*100 + \"\\n\")\n",
        "        f.write(\"DETAILED RELAY COORDINATION ANALYSIS REPORT\\n\")\n",
        "        f.write(\"=\"*100 + \"\\n\")\n",
        "        f.write(f\"Generation date: {datetime.now().strftime('%Y-%m-%d %H:%M:%S')}\\n\")\n",
        "        f.write(f\"Project: {config.PROJECT_ROOT.name}\\n\")\n",
        "        f.write(f\"Analyzed file: {config.INPUT_FILE.name}\\n\")\n",
        "        f.write(f\"CTI configuration: {config.CTI} seconds\\n\")\n",
        "        f.write(f\"Coordination threshold: {config.MIN_COORDINATION_THRESHOLD}%\\n\")\n",
        "        f.write(f\"Critical TMT threshold: {config.CRITICAL_TMT_THRESHOLD}\\n\\n\")\n",
        "        \n",
        "        # Executive summary\n",
        "        f.write(\"EXECUTIVE SUMMARY\\n\")\n",
        "        f.write(\"-\"*50 + \"\\n\")\n",
        "        f.write(f\"• Total scenarios analyzed: {metrics['total_scenarios']}\\n\")\n",
        "        f.write(f\"• Total relay pairs: {metrics['total_pairs']:,}\\n\")\n",
        "        f.write(f\"• Coordinated pairs: {metrics['coordinated_pairs']:,} ({metrics['avg_coordination']:.2f}%)\\n\")\n",
        "        f.write(f\"• Uncoordinated pairs: {metrics['uncoordinated_pairs']:,}\\n\")\n",
        "        f.write(f\"• Total accumulated TMT: {metrics['total_tmt']:.4f} seconds\\n\")\n",
        "        f.write(f\"• Scenarios with coordination ≥{config.MIN_COORDINATION_THRESHOLD}%: {metrics['good_scenarios_count']} ({metrics['good_scenarios_percentage']:.1f}%)\\n\")\n",
        "        f.write(f\"• Critical scenarios (TMT ≤ {config.CRITICAL_TMT_THRESHOLD}): {metrics['critical_scenarios_count']} ({metrics['critical_scenarios_percentage']:.1f}%)\\n\\n\")\n",
        "        \n",
        "        # Detailed statistical analysis\n",
        "        f.write(\"DETAILED STATISTICAL ANALYSIS\\n\")\n",
        "        f.write(\"-\"*50 + \"\\n\")\n",
        "        f.write(f\"Coordination:\\n\")\n",
        "        f.write(f\"  • Average: {metrics['avg_coordination']:.2f}% ± {metrics['coordination_std']:.2f}%\\n\")\n",
        "        f.write(f\"  • Median: {metrics['coordination_median']:.2f}%\\n\")\n",
        "        f.write(f\"  • Range: {metrics['coordination_range']:.2f}%\\n\")\n",
        "        f.write(f\"  • Minimum: {df['Porcentaje Coordinación'].min():.2f}%\\n\")\n",
        "        f.write(f\"  • Maximum: {df['Porcentaje Coordinación'].max():.2f}%\\n\\n\")\n",
        "        \n",
        "        f.write(f\"TMT (Total Miscoordination Time):\\n\")\n",
        "        f.write(f\"  • Average: {metrics['tmt_median']:.4f} seconds\\n\")\n",
        "        f.write(f\"  • Standard deviation: {metrics['tmt_std']:.4f} seconds\\n\")\n",
        "        f.write(f\"  • Range: {metrics['tmt_range']:.4f} seconds\\n\")\n",
        "        f.write(f\"  • Minimum: {df['TMT'].min():.4f} seconds\\n\")\n",
        "        f.write(f\"  • Maximum: {df['TMT'].max():.4f} seconds\\n\\n\")\n",
        "        \n",
        "        # Analysis by scenario\n",
        "        f.write(\"DETAILED ANALYSIS BY SCENARIO\\n\")\n",
        "        f.write(\"-\"*50 + \"\\n\")\n",
        "        f.write(f\"{'Scenario':<25} | {'Pairs':>6} | {'Coord.':>6} | {'Uncoord.':>8} | {'% Coord.':>8} | {'TMT':>10} | {'Quality':>8} | {'Max Uncoord.':>12}\\n\")\n",
        "        f.write(\"-\" * 100 + \"\\n\")\n",
        "        \n",
        "        for _, row in df.iterrows():\n",
        "            quality_icon = \"🟢\" if row['Calidad'] == 'GOOD' else \"🟡\" if row['Calidad'] == 'REGULAR' else \"🔴\"\n",
        "            f.write(f\"{row['Escenario']:<25} | {int(row['Total Pares Válidos']):>6} | {int(row['Pares Coordinados']):>6} | {int(row['Pares Descoordinados']):>8} | {row['Porcentaje Coordinación']:>7.1f}% | {row['TMT']:>9.4f} | {quality_icon}{row['Calidad']:<7} | {row['Máxima Descoordinación']:>11.3f}\\n\")\n",
        "        \n",
        "        f.write(\"-\" * 100 + \"\\n\\n\")\n",
        "        \n",
        "        # Problematic scenarios identification\n",
        "        f.write(\"PROBLEMATIC SCENARIOS IDENTIFICATION\\n\")\n",
        "        f.write(\"-\"*50 + \"\\n\")\n",
        "        \n",
        "        # Worst scenarios by TMT\n",
        "        worst_tmt = df.nsmallest(5, 'TMT')\n",
        "        f.write(\"Top 5 scenarios with highest TMT penalty:\\n\")\n",
        "        for i, (_, row) in enumerate(worst_tmt.iterrows(), 1):\n",
        "            f.write(f\"  {i}. {row['Escenario']}: TMT = {row['TMT']:.4f}s, Coordination = {row['Porcentaje Coordinación']:.1f}%\\n\")\n",
        "        \n",
        "        f.write(\"\\n\")\n",
        "        \n",
        "        # Scenarios with low coordination\n",
        "        low_coordination = df[df['Porcentaje Coordinación'] < 50]\n",
        "        if len(low_coordination) > 0:\n",
        "            f.write(f\"Scenarios with coordination < 50% ({len(low_coordination)} scenarios):\\n\")\n",
        "            for _, row in low_coordination.iterrows():\n",
        "                f.write(f\"  • {row['Escenario']}: {row['Porcentaje Coordinación']:.1f}% coordination, TMT = {row['TMT']:.4f}s\\n\")\n",
        "        else:\n",
        "            f.write(\"✅ No scenarios with coordination < 50%\\n\")\n",
        "        \n",
        "        f.write(\"\\n\")\n",
        "        \n",
        "        # Recommendations\n",
        "        f.write(\"TECHNICAL RECOMMENDATIONS\\n\")\n",
        "        f.write(\"-\"*50 + \"\\n\")\n",
        "        \n",
        "        assessment = generate_quality_assessment(metrics)\n",
        "        for i, rec in enumerate(assessment['recommendations'], 1):\n",
        "            f.write(f\"{i}. {rec}\\n\")\n",
        "        \n",
        "        # Additional recommendations based on analysis\n",
        "        if metrics['avg_coordination'] < 70:\n",
        "            f.write(f\"{len(assessment['recommendations']) + 1}. 🔴 URGENT: Average coordination ({metrics['avg_coordination']:.1f}%) is well below recommended threshold. Review relay configurations.\\n\")\n",
        "        \n",
        "        if metrics['critical_scenarios_percentage'] > 30:\n",
        "            f.write(f\"{len(assessment['recommendations']) + 2}. 🟡 ATTENTION: More than 30% of scenarios have critical TMT. Consider coordination time adjustments.\\n\")\n",
        "        \n",
        "        if metrics['coordination_std'] > 30:\n",
        "            f.write(f\"{len(assessment['recommendations']) + 3}. 🟡 VARIABILITY: High coordination variability (σ = {metrics['coordination_std']:.1f}%). Review configuration consistency.\\n\")\n",
        "        \n",
        "        f.write(\"\\n\")\n",
        "        \n",
        "        # Technical information\n",
        "        f.write(\"TECHNICAL INFORMATION\\n\")\n",
        "        f.write(\"-\"*50 + \"\\n\")\n",
        "        f.write(f\"• CTI (Coordination Time Interval): {config.CTI} seconds\\n\")\n",
        "        f.write(f\"• Acceptable coordination threshold: {config.MIN_COORDINATION_THRESHOLD}%\\n\")\n",
        "        f.write(f\"• Critical TMT threshold: {config.CRITICAL_TMT_THRESHOLD}\\n\")\n",
        "        f.write(f\"• Total processed pairs: {metrics['total_pairs']:,}\\n\")\n",
        "        f.write(f\"• Coordination success rate: {metrics['avg_coordination']:.2f}%\\n\")\n",
        "        f.write(f\"• System efficiency: {100 - metrics['critical_scenarios_percentage']:.1f}%\\n\\n\")\n",
        "        \n",
        "        f.write(\"=\"*100 + \"\\n\")\n",
        "        f.write(\"END OF REPORT\\n\")\n",
        "        f.write(\"=\"*100 + \"\\n\")\n",
        "    \n",
        "    print(f\"✅ Detailed report saved in: {report_path}\")\n",
        "\n",
        "def generate_html_report(df, metrics, figures, html_path, config):\n",
        "    \"\"\"Genera un reporte HTML interactivo con visualizaciones\"\"\"\n",
        "    \n",
        "    html_content = f\"\"\"\n",
        "    <!DOCTYPE html>\n",
        "    <html lang=\"es\">\n",
        "    <head>\n",
        "        <meta charset=\"UTF-8\">\n",
        "        <meta name=\"viewport\" content=\"width=device-width, initial-scale=1.0\">\n",
        "        <title>Reporte de Análisis TMT - {datetime.now().strftime('%Y-%m-%d')}</title>\n",
        "        <style>\n",
        "            body {{ font-family: Arial, sans-serif; margin: 20px; background-color: #f5f5f5; }}\n",
        "            .container {{ max-width: 1200px; margin: 0 auto; background: white; padding: 20px; border-radius: 10px; box-shadow: 0 0 10px rgba(0,0,0,0.1); }}\n",
        "            .header {{ text-align: center; border-bottom: 3px solid #4169E1; padding-bottom: 20px; margin-bottom: 30px; }}\n",
        "            .section {{ margin: 30px 0; }}\n",
        "            .metric-card {{ background: #f8f9fa; padding: 15px; border-radius: 8px; margin: 10px 0; border-left: 4px solid #4169E1; }}\n",
        "            .critical {{ border-left-color: #DC143C; }}\n",
        "            .warning {{ border-left-color: #FFD700; }}\n",
        "            .good {{ border-left-color: #32CD32; }}\n",
        "            table {{ width: 100%; border-collapse: collapse; margin: 20px 0; }}\n",
        "            th, td {{ padding: 12px; text-align: left; border-bottom: 1px solid #ddd; }}\n",
        "            th {{ background-color: #4169E1; color: white; }}\n",
        "            .plot-container {{ margin: 30px 0; text-align: center; }}\n",
        "        </style>\n",
        "    </head>\n",
        "    <body>\n",
        "        <div class=\"container\">\n",
        "            <div class=\"header\">\n",
        "                <h1>📊 Reporte de Análisis de Coordinación de Relés</h1>\n",
        "                <p>Fecha: {datetime.now().strftime('%Y-%m-%d %H:%M:%S')}</p>\n",
        "                <p>Proyecto: {config.PROJECT_ROOT.name}</p>\n",
        "            </div>\n",
        "            \n",
        "            <div class=\"section\">\n",
        "                <h2>📈 Resumen Ejecutivo</h2>\n",
        "                <div class=\"metric-card\">\n",
        "                    <h3>Métricas Generales</h3>\n",
        "                    <p><strong>Total de escenarios:</strong> {metrics['total_scenarios']}</p>\n",
        "                    <p><strong>Total de pares de relés:</strong> {metrics['total_pairs']:,}</p>\n",
        "                    <p><strong>Coordinación promedio:</strong> {metrics['avg_coordination']:.2f}%</p>\n",
        "                    <p><strong>TMT total acumulado:</strong> {metrics['total_tmt']:.4f} segundos</p>\n",
        "                </div>\n",
        "                \n",
        "                <div class=\"metric-card {'critical' if metrics['avg_coordination'] < 70 else 'warning' if metrics['avg_coordination'] < 80 else 'good'}\">\n",
        "                    <h3>Estado de Calidad</h3>\n",
        "                    <p><strong>Escenarios con coordinación ≥{config.MIN_COORDINATION_THRESHOLD}%:</strong> {metrics['good_scenarios_count']} ({metrics['good_scenarios_percentage']:.1f}%)</p>\n",
        "                    <p><strong>Escenarios críticos:</strong> {metrics['critical_scenarios_count']} ({metrics['critical_scenarios_percentage']:.1f}%)</p>\n",
        "                </div>\n",
        "            </div>\n",
        "            \n",
        "            <div class=\"section\">\n",
        "                <h2>📊 Análisis por Escenario</h2>\n",
        "                <table>\n",
        "                    <thead>\n",
        "                        <tr>\n",
        "                            <th>Escenario</th>\n",
        "                            <th>Pares</th>\n",
        "                            <th>Coordinados</th>\n",
        "                            <th>Descoordinados</th>\n",
        "                            <th>% Coordinación</th>\n",
        "                            <th>TMT</th>\n",
        "                            <th>Calidad</th>\n",
        "                        </tr>\n",
        "                    </thead>\n",
        "                    <tbody>\n",
        "    \"\"\"\n",
        "    \n",
        "    for _, row in df.iterrows():\n",
        "        quality_icon = \"🟢\" if row['Calidad'] == 'GOOD' else \"🟡\" if row['Calidad'] == 'REGULAR' else \"🔴\"\n",
        "        html_content += f\"\"\"\n",
        "                        <tr>\n",
        "                            <td>{row['Escenario']}</td>\n",
        "                            <td>{int(row['Total Pares Válidos'])}</td>\n",
        "                            <td>{int(row['Pares Coordinados'])}</td>\n",
        "                            <td>{int(row['Pares Descoordinados'])}</td>\n",
        "                            <td>{row['Porcentaje Coordinación']:.1f}%</td>\n",
        "                            <td>{row['TMT']:.4f}</td>\n",
        "                            <td>{quality_icon} {row['Calidad']}</td>\n",
        "                        </tr>\n",
        "        \"\"\"\n",
        "    \n",
        "    html_content += \"\"\"\n",
        "                    </tbody>\n",
        "                </table>\n",
        "            </div>\n",
        "            \n",
        "            <div class=\"section\">\n",
        "                <h2>📈 Visualizaciones</h2>\n",
        "                <p><em>Las visualizaciones interactivas se generan automáticamente y se guardan como archivos HTML separados.</em></p>\n",
        "            </div>\n",
        "            \n",
        "            <div class=\"section\">\n",
        "                <h2>💡 Recomendaciones</h2>\n",
        "    \"\"\"\n",
        "    \n",
        "    assessment = generate_quality_assessment(metrics)\n",
        "    for i, rec in enumerate(assessment['recommendations'], 1):\n",
        "        html_content += f\"<p>{i}. {rec}</p>\"\n",
        "    \n",
        "    html_content += \"\"\"\n",
        "            </div>\n",
        "        </div>\n",
        "    </body>\n",
        "    </html>\n",
        "    \"\"\"\n",
        "    \n",
        "    with open(html_path, 'w', encoding='utf-8') as f:\n",
        "        f.write(html_content)\n",
        "    \n",
        "    print(f\"✅ Reporte HTML guardado en: {html_path}\")\n",
        "\n",
        "def generate_executive_summary(df, metrics, summary_path, config):\n",
        "    \"\"\"Generates a concise executive summary\"\"\"\n",
        "    \n",
        "    with open(summary_path, 'w', encoding='utf-8') as f:\n",
        "        f.write(\"EXECUTIVE SUMMARY - RELAY COORDINATION ANALYSIS\\n\")\n",
        "        f.write(\"=\"*60 + \"\\n\\n\")\n",
        "        \n",
        "        f.write(f\"📅 Date: {datetime.now().strftime('%Y-%m-%d %H:%M:%S')}\\n\")\n",
        "        f.write(f\"📁 Project: {config.PROJECT_ROOT.name}\\n\")\n",
        "        f.write(f\"📊 File: {config.INPUT_FILE.name}\\n\\n\")\n",
        "        \n",
        "        f.write(\"KEY RESULTS:\\n\")\n",
        "        f.write(\"-\" * 30 + \"\\n\")\n",
        "        f.write(f\"• Scenarios analyzed: {metrics['total_scenarios']}\\n\")\n",
        "        f.write(f\"• Average coordination: {metrics['avg_coordination']:.1f}%\\n\")\n",
        "        f.write(f\"• Successful scenarios (≥{config.MIN_COORDINATION_THRESHOLD}%): {metrics['good_scenarios_percentage']:.1f}%\\n\")\n",
        "        f.write(f\"• Critical scenarios: {metrics['critical_scenarios_percentage']:.1f}%\\n\")\n",
        "        f.write(f\"• Total TMT: {metrics['total_tmt']:.2f} seconds\\n\\n\")\n",
        "        \n",
        "        f.write(\"GENERAL STATUS:\\n\")\n",
        "        f.write(\"-\" * 30 + \"\\n\")\n",
        "        if metrics['avg_coordination'] >= 80:\n",
        "            f.write(\"✅ SYSTEM IN GOOD CONDITION\\n\")\n",
        "        elif metrics['avg_coordination'] >= 60:\n",
        "            f.write(\"⚠️  SYSTEM REQUIRES ATTENTION\\n\")\n",
        "        else:\n",
        "            f.write(\"🔴 CRITICAL SYSTEM - IMMEDIATE ACTION REQUIRED\\n\")\n",
        "        \n",
        "        f.write(\"\\nRECOMMENDED ACTION:\\n\")\n",
        "        f.write(\"-\" * 30 + \"\\n\")\n",
        "        if metrics['avg_coordination'] < 70:\n",
        "            f.write(\"• Review relay configurations urgently\\n\")\n",
        "        if metrics['critical_scenarios_percentage'] > 20:\n",
        "            f.write(\"• Adjust coordination times\\n\")\n",
        "        if metrics['coordination_std'] > 25:\n",
        "            f.write(\"• Standardize configurations\\n\")\n",
        "        \n",
        "        f.write(\"\\n\" + \"=\"*60 + \"\\n\")\n",
        "    \n",
        "    print(f\"✅ Executive summary saved in: {summary_path}\")\n",
        "\n",
        "def save_metrics_json(metrics, metrics_path):\n",
        "    \"\"\"Guarda las métricas en formato JSON\"\"\"\n",
        "    metrics_serializable = {}\n",
        "    for key, value in metrics.items():\n",
        "        if hasattr(value, 'item'):  # numpy types\n",
        "            metrics_serializable[key] = value.item()\n",
        "        else:\n",
        "            metrics_serializable[key] = value\n",
        "    \n",
        "    with open(metrics_path, 'w', encoding='utf-8') as f:\n",
        "        json.dump(metrics_serializable, f, indent=2, ensure_ascii=False)\n",
        "    \n",
        "    print(f\"✅ Metrics saved in: {metrics_path}\")\n",
        "\n",
        "def save_visualizations(figures, config, timestamp):\n",
        "    \"\"\"Saves visualizations in PNG format with descriptive names\"\"\"\n",
        "    saved_plots = []\n",
        "    notebook_name = \"tmt_analysis_all_scenarios\"  # Notebook name for identification\n",
        "    \n",
        "    for name, fig in figures:\n",
        "        if fig is not None:\n",
        "            # High resolution PNG with notebook name\n",
        "            try:\n",
        "                png_path = config.OUTPUT_DIR / f\"{notebook_name}_{name}_{timestamp}.png\"\n",
        "                fig.write_image(png_path, scale=2, width=config.FIG_WIDTH, height=config.FIG_HEIGHT)\n",
        "                saved_plots.append(png_path)\n",
        "                print(f\"✅ PNG saved: {png_path.name}\")\n",
        "            except Exception as e:\n",
        "                print(f\"⚠️  Could not save PNG for {name}: {e}\")\n",
        "                # Try with kaleido if available\n",
        "                try:\n",
        "                    import kaleido\n",
        "                    fig.write_image(png_path, scale=2, width=config.FIG_WIDTH, height=config.FIG_HEIGHT)\n",
        "                    saved_plots.append(png_path)\n",
        "                    print(f\"✅ PNG saved (with kaleido): {png_path.name}\")\n",
        "                except ImportError:\n",
        "                    print(f\"💡 Install kaleido to export PNG: pip install kaleido\")\n",
        "                except Exception as e2:\n",
        "                    print(f\"❌ Error saving PNG: {e2}\")\n",
        "    \n",
        "    print(f\"✅ {len(saved_plots)} visualizations saved in: {config.OUTPUT_DIR}\")\n",
        "    print(f\"📁 PNG files generated:\")\n",
        "    png_files = [f for f in saved_plots if f.suffix == '.png']\n",
        "    for png_file in png_files:\n",
        "        print(f\"   • {png_file.name}\")\n",
        "\n",
        "def generate_quality_assessment(metrics):\n",
        "    \"\"\"Generates a quality assessment based on calculated metrics\"\"\"\n",
        "    assessment = {\n",
        "        'overall_quality': 'CRITICAL',\n",
        "        'coordination_status': 'INSUFFICIENT',\n",
        "        'tmt_status': 'CRITICAL',\n",
        "        'recommendations': []\n",
        "    }\n",
        "    \n",
        "    # Coordination evaluation\n",
        "    if metrics['avg_coordination'] >= 90:\n",
        "        assessment['coordination_status'] = 'EXCELLENT'\n",
        "    elif metrics['avg_coordination'] >= 80:\n",
        "        assessment['coordination_status'] = 'GOOD'\n",
        "    elif metrics['avg_coordination'] >= 60:\n",
        "        assessment['coordination_status'] = 'REGULAR'\n",
        "    else:\n",
        "        assessment['coordination_status'] = 'INSUFFICIENT'\n",
        "    \n",
        "    # TMT evaluation\n",
        "    if metrics['total_tmt'] >= -100:\n",
        "        assessment['tmt_status'] = 'GOOD'\n",
        "    elif metrics['total_tmt'] >= -500:\n",
        "        assessment['tmt_status'] = 'REGULAR'\n",
        "    else:\n",
        "        assessment['tmt_status'] = 'CRITICAL'\n",
        "    \n",
        "    # Overall evaluation\n",
        "    if assessment['coordination_status'] in ['EXCELLENT', 'GOOD'] and assessment['tmt_status'] in ['GOOD', 'REGULAR']:\n",
        "        assessment['overall_quality'] = 'GOOD'\n",
        "    elif assessment['coordination_status'] in ['REGULAR'] or assessment['tmt_status'] in ['REGULAR']:\n",
        "        assessment['overall_quality'] = 'REGULAR'\n",
        "    else:\n",
        "        assessment['overall_quality'] = 'CRITICAL'\n",
        "    \n",
        "    # Generate recommendations\n",
        "    if metrics['avg_coordination'] < 80:\n",
        "        assessment['recommendations'].append(\"🔴 CRITICAL: Very low average coordination. Review relay configurations.\")\n",
        "    \n",
        "    if metrics['total_tmt'] < -500:\n",
        "        assessment['recommendations'].append(\"🔴 CRITICAL: Very negative total TMT. Multiple severe miscoordinations.\")\n",
        "    \n",
        "    if metrics['good_scenarios_percentage'] < 20:\n",
        "        assessment['recommendations'].append(\"🟡 WARNING: Few scenarios with acceptable coordination.\")\n",
        "    \n",
        "    if metrics['critical_scenarios_count'] > metrics['total_scenarios'] * 0.3:\n",
        "        assessment['recommendations'].append(\"🟡 WARNING: More than 30% of scenarios have critical TMT.\")\n",
        "    \n",
        "    return assessment\n",
        "\n",
        "print(\"✅ Funciones de generación de reportes definidas.\")\n"
      ]
    },
    {
      "cell_type": "code",
      "execution_count": 28,
      "metadata": {},
      "outputs": [
        {
          "name": "stdout",
          "output_type": "stream",
          "text": [
            "📝 Iniciando generación de reportes detallados...\n",
            "\n",
            "📝 Generando reporte detallado con timestamp: 20251006_190856\n",
            "✅ Detailed report saved in: /Users/gustavo/Documents/Projects/TESIS_UNAL/AutoDOC-MG/results/reports/tmt_analysis_all_scenarios_detailed_report_20251006_190856.txt\n",
            "✅ Executive summary saved in: /Users/gustavo/Documents/Projects/TESIS_UNAL/AutoDOC-MG/results/reports/tmt_analysis_all_scenarios_executive_summary_20251006_190856.txt\n",
            "✅ Metrics saved in: /Users/gustavo/Documents/Projects/TESIS_UNAL/AutoDOC-MG/results/tables/tmt_analysis_all_scenarios_metrics_20251006_190856.json\n",
            "⚠️  Could not save PNG for coordination_quality: \n",
            "\n",
            "Kaleido requires Google Chrome to be installed.\n",
            "\n",
            "Either download and install Chrome yourself following Google's instructions for your operating system,\n",
            "or install it from your terminal by running:\n",
            "\n",
            "    $ plotly_get_chrome\n",
            "\n",
            "\n",
            "❌ Error saving PNG: \n",
            "\n",
            "Kaleido requires Google Chrome to be installed.\n",
            "\n",
            "Either download and install Chrome yourself following Google's instructions for your operating system,\n",
            "or install it from your terminal by running:\n",
            "\n",
            "    $ plotly_get_chrome\n",
            "\n",
            "\n",
            "⚠️  Could not save PNG for tmt_severity: \n",
            "\n",
            "Kaleido requires Google Chrome to be installed.\n",
            "\n",
            "Either download and install Chrome yourself following Google's instructions for your operating system,\n",
            "or install it from your terminal by running:\n",
            "\n",
            "    $ plotly_get_chrome\n",
            "\n",
            "\n",
            "❌ Error saving PNG: \n",
            "\n",
            "Kaleido requires Google Chrome to be installed.\n",
            "\n",
            "Either download and install Chrome yourself following Google's instructions for your operating system,\n",
            "or install it from your terminal by running:\n",
            "\n",
            "    $ plotly_get_chrome\n",
            "\n",
            "\n",
            "⚠️  Could not save PNG for metrics_dashboard: \n",
            "\n",
            "Kaleido requires Google Chrome to be installed.\n",
            "\n",
            "Either download and install Chrome yourself following Google's instructions for your operating system,\n",
            "or install it from your terminal by running:\n",
            "\n",
            "    $ plotly_get_chrome\n",
            "\n",
            "\n",
            "❌ Error saving PNG: \n",
            "\n",
            "Kaleido requires Google Chrome to be installed.\n",
            "\n",
            "Either download and install Chrome yourself following Google's instructions for your operating system,\n",
            "or install it from your terminal by running:\n",
            "\n",
            "    $ plotly_get_chrome\n",
            "\n",
            "\n",
            "✅ 0 visualizations saved in: /Users/gustavo/Documents/Projects/TESIS_UNAL/AutoDOC-MG/results/plots/tmt_analysis\n",
            "📁 PNG files generated:\n",
            "\n",
            "🎉 REPORTES GENERADOS EXITOSAMENTE\n",
            "============================================================\n",
            "📁 Archivos generados:\n",
            "   • Reporte detallado: tmt_analysis_all_scenarios_detailed_report_20251006_190856.txt\n"
          ]
        },
        {
          "ename": "KeyError",
          "evalue": "'html_report'",
          "output_type": "error",
          "traceback": [
            "\u001b[0;31m---------------------------------------------------------------------------\u001b[0m",
            "\u001b[0;31mKeyError\u001b[0m                                  Traceback (most recent call last)",
            "Cell \u001b[0;32mIn[28], line 13\u001b[0m\n\u001b[1;32m     11\u001b[0m \u001b[38;5;28mprint\u001b[39m(\u001b[38;5;124m\"\u001b[39m\u001b[38;5;124m📁 Archivos generados:\u001b[39m\u001b[38;5;124m\"\u001b[39m)\n\u001b[1;32m     12\u001b[0m \u001b[38;5;28mprint\u001b[39m(\u001b[38;5;124mf\u001b[39m\u001b[38;5;124m\"\u001b[39m\u001b[38;5;124m   • Reporte detallado: \u001b[39m\u001b[38;5;132;01m{\u001b[39;00mreport_files[\u001b[38;5;124m'\u001b[39m\u001b[38;5;124mtext_report\u001b[39m\u001b[38;5;124m'\u001b[39m]\u001b[38;5;241m.\u001b[39mname\u001b[38;5;132;01m}\u001b[39;00m\u001b[38;5;124m\"\u001b[39m)\n\u001b[0;32m---> 13\u001b[0m \u001b[38;5;28mprint\u001b[39m(\u001b[38;5;124mf\u001b[39m\u001b[38;5;124m\"\u001b[39m\u001b[38;5;124m   • Reporte HTML: \u001b[39m\u001b[38;5;132;01m{\u001b[39;00m\u001b[43mreport_files\u001b[49m\u001b[43m[\u001b[49m\u001b[38;5;124;43m'\u001b[39;49m\u001b[38;5;124;43mhtml_report\u001b[39;49m\u001b[38;5;124;43m'\u001b[39;49m\u001b[43m]\u001b[49m\u001b[38;5;241m.\u001b[39mname\u001b[38;5;132;01m}\u001b[39;00m\u001b[38;5;124m\"\u001b[39m)\n\u001b[1;32m     14\u001b[0m \u001b[38;5;28mprint\u001b[39m(\u001b[38;5;124mf\u001b[39m\u001b[38;5;124m\"\u001b[39m\u001b[38;5;124m   • Resumen ejecutivo: \u001b[39m\u001b[38;5;132;01m{\u001b[39;00mreport_files[\u001b[38;5;124m'\u001b[39m\u001b[38;5;124mexecutive_summary\u001b[39m\u001b[38;5;124m'\u001b[39m]\u001b[38;5;241m.\u001b[39mname\u001b[38;5;132;01m}\u001b[39;00m\u001b[38;5;124m\"\u001b[39m)\n\u001b[1;32m     15\u001b[0m \u001b[38;5;28mprint\u001b[39m(\u001b[38;5;124mf\u001b[39m\u001b[38;5;124m\"\u001b[39m\u001b[38;5;124m   • Datos CSV: \u001b[39m\u001b[38;5;132;01m{\u001b[39;00mreport_files[\u001b[38;5;124m'\u001b[39m\u001b[38;5;124mcsv_data\u001b[39m\u001b[38;5;124m'\u001b[39m]\u001b[38;5;241m.\u001b[39mname\u001b[38;5;132;01m}\u001b[39;00m\u001b[38;5;124m\"\u001b[39m)\n",
            "\u001b[0;31mKeyError\u001b[0m: 'html_report'"
          ]
        }
      ],
      "source": [
        "# %% Generar Reportes Detallados\n",
        "if df_results is not None and not df_results.empty and 'figures' in locals():\n",
        "    print(\"📝 Iniciando generación de reportes detallados...\")\n",
        "    \n",
        "    # Generar reporte completo\n",
        "    report_files = generate_comprehensive_report(df_results, metrics, figures, config)\n",
        "    \n",
        "    if report_files:\n",
        "        print(\"\\n🎉 REPORTES GENERADOS EXITOSAMENTE\")\n",
        "        print(\"=\"*60)\n",
        "        print(\"📁 Archivos generados:\")\n",
        "        print(f\"   • Reporte detallado: {report_files['text_report'].name}\")\n",
        "        print(f\"   • Reporte HTML: {report_files['html_report'].name}\")\n",
        "        print(f\"   • Resumen ejecutivo: {report_files['executive_summary'].name}\")\n",
        "        print(f\"   • Datos CSV: {report_files['csv_data'].name}\")\n",
        "        print(f\"   • Métricas JSON: {report_files['metrics_json'].name}\")\n",
        "        print(f\"   • Timestamp: {report_files['timestamp']}\")\n",
        "        \n",
        "        print(\"\\n📂 Ubicación de archivos:\")\n",
        "        print(f\"   • Reportes: {report_files['text_report'].parent}\")\n",
        "        print(f\"   • Datos: {report_files['csv_data'].parent}\")\n",
        "        print(f\"   • Visualizaciones: {config.OUTPUT_DIR}\")\n",
        "        \n",
        "        print(\"\\n🌍 Listo para compartir internacionalmente!\")\n",
        "        print(\"=\"*60)\n",
        "    else:\n",
        "        print(\"❌ Error al generar los reportes.\")\n",
        "else:\n",
        "    print(\"❌ No hay datos para generar reportes.\")\n",
        "    print(\"   Asegúrate de ejecutar primero las celdas de análisis y visualización.\")\n"
      ]
    },
    {
      "cell_type": "code",
      "execution_count": null,
      "metadata": {},
      "outputs": [],
      "source": [
        "# %% Generar Solo Imágenes PNG\n",
        "def generate_png_images_only(figures, config):\n",
        "    \"\"\"Genera solo las imágenes PNG de alta resolución\"\"\"\n",
        "    if not figures:\n",
        "        print(\"❌ No hay figuras para convertir a PNG.\")\n",
        "        return\n",
        "    \n",
        "    timestamp = datetime.now().strftime(\"%Y%m%d_%H%M%S\")\n",
        "    notebook_name = \"tmt_analysis_all_scenarios\"\n",
        "    \n",
        "    print(f\"🖼️  Generando imágenes PNG con timestamp: {timestamp}\")\n",
        "    \n",
        "    saved_pngs = []\n",
        "    \n",
        "    for name, fig in figures:\n",
        "        if fig is not None:\n",
        "            try:\n",
        "                png_path = config.OUTPUT_DIR / f\"{notebook_name}_{name}_{timestamp}.png\"\n",
        "                fig.write_image(png_path, scale=2, width=config.FIG_WIDTH, height=config.FIG_HEIGHT)\n",
        "                saved_pngs.append(png_path)\n",
        "                print(f\"✅ PNG guardado: {png_path.name}\")\n",
        "            except Exception as e:\n",
        "                print(f\"⚠️  Error al guardar {name}.png: {e}\")\n",
        "                # Intentar con kaleido\n",
        "                try:\n",
        "                    import kaleido\n",
        "                    fig.write_image(png_path, scale=2, width=config.FIG_WIDTH, height=config.FIG_HEIGHT)\n",
        "                    saved_pngs.append(png_path)\n",
        "                    print(f\"✅ PNG guardado (con kaleido): {png_path.name}\")\n",
        "                except ImportError:\n",
        "                    print(f\"💡 Para exportar PNG instala: pip install kaleido\")\n",
        "                except Exception as e2:\n",
        "                    print(f\"❌ Error definitivo: {e2}\")\n",
        "    \n",
        "    if saved_pngs:\n",
        "        print(f\"\\n🎉 {len(saved_pngs)} imágenes PNG generadas exitosamente:\")\n",
        "        for png_file in saved_pngs:\n",
        "            print(f\"   📁 {png_file.name}\")\n",
        "        print(f\"\\n📂 Ubicación: {config.OUTPUT_DIR}\")\n",
        "    else:\n",
        "        print(\"❌ No se pudieron generar imágenes PNG.\")\n",
        "\n",
        "# Ejecutar generación de PNG si hay figuras disponibles\n",
        "if 'figures' in locals() and figures:\n",
        "    generate_png_images_only(figures, config)\n",
        "else:\n",
        "    print(\"❌ No hay figuras disponibles. Ejecuta primero las celdas de análisis y visualización.\")\n"
      ]
    }
  ],
  "metadata": {
    "kernelspec": {
      "display_name": "Python 3",
      "language": "python",
      "name": "python3"
    },
    "language_info": {
      "codemirror_mode": {
        "name": "ipython",
        "version": 3
      },
      "file_extension": ".py",
      "mimetype": "text/x-python",
      "name": "python",
      "nbconvert_exporter": "python",
      "pygments_lexer": "ipython3",
      "version": "3.12.0"
    }
  },
  "nbformat": 4,
  "nbformat_minor": 2
}
